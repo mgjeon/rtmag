{
 "cells": [
  {
   "cell_type": "markdown",
   "metadata": {},
   "source": [
    "[![Open In Colab](https://colab.research.google.com/assets/colab-badge.svg)](https://colab.research.google.com/github/mgjeon/rtmag/blob/main/examples/example_colab.ipynb)"
   ]
  },
  {
   "cell_type": "code",
   "execution_count": null,
   "metadata": {},
   "outputs": [],
   "source": [
    "%%capture\n",
    "\n",
    "!apt-get update\n",
    "!apt-get install -qq xvfb libgl1-mesa-glx\n",
    "!pip install \"neuraloperator<1.0\"\n",
    "!pip install -r https://raw.githubusercontent.com/NeuralOperator/neuraloperator/main/requirements.txt\n",
    "!pip install -r https://raw.githubusercontent.com/mgjeon/rtmag/refs/heads/main/requirements.txt\n",
    "!pip install -r https://raw.githubusercontent.com/mgjeon/rtmag/refs/heads/main/examples/requirements.txt"
   ]
  },
  {
   "cell_type": "code",
   "execution_count": null,
   "metadata": {},
   "outputs": [],
   "source": [
    "%%capture\n",
    "\n",
    "!pip install git+https://github.com/mgjeon/rtmag"
   ]
  },
  {
   "cell_type": "code",
   "execution_count": null,
   "metadata": {},
   "outputs": [],
   "source": [
    "from rtmag.process.download.find_harp import find_ar"
   ]
  },
  {
   "cell_type": "code",
   "execution_count": null,
   "metadata": {},
   "outputs": [],
   "source": [
    "d = \"2024-05-09 02:00:00\"\n",
    "ar, img = find_ar(d, show_image=True)\n",
    "print(ar)"
   ]
  },
  {
   "cell_type": "code",
   "execution_count": null,
   "metadata": {},
   "outputs": [],
   "source": [
    "from IPython.display import Image"
   ]
  },
  {
   "cell_type": "code",
   "execution_count": null,
   "metadata": {},
   "outputs": [],
   "source": [
    "Image(img)"
   ]
  },
  {
   "cell_type": "code",
   "execution_count": null,
   "metadata": {},
   "outputs": [],
   "source": [
    "harpnum = 11149\n",
    "noaanum = ar[ar['HARPNUM'] == harpnum]['NOAA_AR'].item()\n",
    "print(noaanum)"
   ]
  },
  {
   "cell_type": "code",
   "execution_count": null,
   "metadata": {},
   "outputs": [],
   "source": [
    "from rtmag.process.download.dl_map import get_sharp_map"
   ]
  },
  {
   "cell_type": "code",
   "execution_count": null,
   "metadata": {},
   "outputs": [],
   "source": [
    "hmi_map, hmi_data = get_sharp_map(d, harpnum)"
   ]
  },
  {
   "cell_type": "code",
   "execution_count": null,
   "metadata": {},
   "outputs": [],
   "source": [
    "hmi_map.peek()"
   ]
  },
  {
   "cell_type": "code",
   "execution_count": null,
   "metadata": {},
   "outputs": [],
   "source": [
    "hmi_data.shape"
   ]
  },
  {
   "cell_type": "code",
   "execution_count": null,
   "metadata": {},
   "outputs": [],
   "source": [
    "from rtmag.process.paper.hmi_to_input import get_input"
   ]
  },
  {
   "cell_type": "code",
   "execution_count": null,
   "metadata": {},
   "outputs": [],
   "source": [
    "nx = 512\n",
    "ny = 256\n",
    "\n",
    "model_input, x, y, z, dx, dy, dz = get_input(hmi_data, nx, ny)\n",
    "model_input.shape"
   ]
  },
  {
   "cell_type": "code",
   "execution_count": null,
   "metadata": {},
   "outputs": [],
   "source": [
    "from urllib.request import urlretrieve\n",
    "\n",
    "urlretrieve(\"https://huggingface.co/mingyujeon/rtmag-models/resolve/main/isee/args.npy\", \"args.npy\")\n",
    "urlretrieve(\"https://huggingface.co/mingyujeon/rtmag-models/resolve/main/isee/best_model.pt\", \"best_model.pt\");"
   ]
  },
  {
   "cell_type": "code",
   "execution_count": null,
   "metadata": {},
   "outputs": [],
   "source": [
    "import torch\n",
    "from rtmag.process.paper.load import MyModel\n",
    "\n",
    "meta_path = \"best_model.pt\"\n",
    "device = torch.device(\"cuda:0\" if torch.cuda.is_available() else \"cpu\")\n",
    "print(\"device\", device)\n",
    "\n",
    "mm = MyModel(meta_path, device=device)"
   ]
  },
  {
   "cell_type": "code",
   "execution_count": null,
   "metadata": {},
   "outputs": [],
   "source": [
    "b = mm.get_pred_from_numpy(model_input)\n",
    "b.shape"
   ]
  },
  {
   "cell_type": "code",
   "execution_count": null,
   "metadata": {},
   "outputs": [],
   "source": [
    "bottom = b[:, :, 0, 2]\n",
    "bottom.shape"
   ]
  },
  {
   "cell_type": "code",
   "execution_count": null,
   "metadata": {},
   "outputs": [],
   "source": [
    "import matplotlib.pyplot as plt"
   ]
  },
  {
   "cell_type": "code",
   "execution_count": null,
   "metadata": {},
   "outputs": [],
   "source": [
    "fig, ax = plt.subplots()\n",
    "ax.pcolormesh(x, y, bottom.T, cmap='gray', vmin=-2000, vmax=2000)\n",
    "ax.set_xlabel('x [Mm]')\n",
    "ax.set_ylabel('y [Mm]')\n",
    "ax.set_aspect('equal')\n",
    "ax.set_title(\"PINO's output at z=0\")\n",
    "plt.tight_layout()\n",
    "plt.show()"
   ]
  },
  {
   "cell_type": "code",
   "execution_count": null,
   "metadata": {},
   "outputs": [],
   "source": [
    "import numpy as np"
   ]
  },
  {
   "cell_type": "code",
   "execution_count": null,
   "metadata": {},
   "outputs": [],
   "source": [
    "mask = np.abs(bottom) > 1000\n",
    "fig, ax = plt.subplots()\n",
    "ax.pcolormesh(x, y, (bottom*mask).T, cmap='gray', vmin=-2000, vmax=2000)\n",
    "ax.set_xlabel('x [Mm]')\n",
    "ax.set_ylabel('y [Mm]')\n",
    "ax.set_aspect('equal')\n",
    "plt.tight_layout()\n",
    "plt.show()"
   ]
  },
  {
   "cell_type": "code",
   "execution_count": null,
   "metadata": {},
   "outputs": [],
   "source": [
    "stride = 20\n",
    "seeds = np.stack([np.where(mask == True)[0],\n",
    "                  np.where(mask == True)[1],\n",
    "                  np.zeros_like(np.where(mask == True)[0])], axis=1)\n",
    "seeds = seeds[::stride]\n",
    "seeds.shape"
   ]
  },
  {
   "cell_type": "code",
   "execution_count": null,
   "metadata": {},
   "outputs": [],
   "source": [
    "from streamtracer import StreamTracer, VectorGrid"
   ]
  },
  {
   "cell_type": "code",
   "execution_count": null,
   "metadata": {},
   "outputs": [],
   "source": [
    "nsteps = 10000\n",
    "step_size = 0.1\n",
    "grid_spacing = [1, 1, 1]\n",
    "\n",
    "grid = VectorGrid(b.astype(np.float64), grid_spacing)\n",
    "tracer = StreamTracer(nsteps, step_size)\n",
    "tracer_xs = []\n",
    "tracer.trace(seeds, grid)\n",
    "tracer_xs.append(tracer.xs)\n",
    "tracer_xs = [item for sublist in tracer_xs for item in sublist]"
   ]
  },
  {
   "cell_type": "code",
   "execution_count": null,
   "metadata": {},
   "outputs": [],
   "source": [
    "fig, ax = plt.subplots()\n",
    "ax.pcolormesh(x, y, bottom.T, cmap='gray', vmin=-2000, vmax=2000)\n",
    "ax.set_xlabel('x [Mm]')\n",
    "ax.set_ylabel('y [Mm]')\n",
    "ax.set_aspect('equal')\n",
    "for i, xl in enumerate(tracer_xs):\n",
    "    assert seeds[i] in xl\n",
    "    ax.plot(xl[:,0]*dx+x[0], xl[:,1]*dy+y[0], color='blue', linewidth=0.8)\n",
    "plt.tight_layout()\n",
    "plt.show()"
   ]
  },
  {
   "cell_type": "code",
   "execution_count": null,
   "metadata": {},
   "outputs": [],
   "source": [
    "import pyvista as pv\n",
    "\n",
    "pv.start_xvfb()\n",
    "pv.global_theme.notebook = True\n",
    "pv.global_theme.jupyter_backend = 'static'"
   ]
  },
  {
   "cell_type": "code",
   "execution_count": null,
   "metadata": {},
   "outputs": [],
   "source": [
    "xv, yv, zv = np.meshgrid(x, y, z, indexing='ij')\n",
    "mesh = pv.StructuredGrid(xv, yv, zv)\n",
    "bx, by, bz = b[..., 0], b[..., 1], b[..., 2]\n",
    "vectors = np.stack([bx, by, bz], axis=-1).transpose(2, 1, 0, 3).reshape(-1, 3)\n",
    "mesh['vector'] = vectors\n",
    "mesh.active_vectors_name = 'vector'\n",
    "mesh"
   ]
  },
  {
   "cell_type": "code",
   "execution_count": null,
   "metadata": {},
   "outputs": [],
   "source": [
    "xx, yy = np.meshgrid(x, y, indexing='ij')\n",
    "seeds_xs = np.stack([xx[seeds[:, 0], seeds[:, 1]],\n",
    "                     yy[seeds[:, 0], seeds[:, 1]],\n",
    "                     np.zeros_like(seeds[:, 0])], axis=1)\n",
    "seeds_xs.shape"
   ]
  },
  {
   "cell_type": "code",
   "execution_count": null,
   "metadata": {},
   "outputs": [],
   "source": [
    "p = pv.Plotter(window_size=(1000, 600))\n",
    "\n",
    "p.show_bounds(\n",
    "    grid='front',\n",
    "    show_xlabels=False,\n",
    "    show_ylabels=False,\n",
    "    show_zlabels=False,\n",
    ")\n",
    "p.add_mesh(mesh.outline(), color='k')\n",
    "\n",
    "seed = pv.PolyData(seeds_xs)\n",
    "strl = mesh.streamlines_from_source(seed, vectors='vector', integration_direction='both',\n",
    "                                    max_time=10000, initial_step_length=0.1)\n",
    "p.add_mesh(strl.tube(radius=0.4), color='blue')\n",
    "\n",
    "bottom_subset = mesh.extract_subset((0, nx-1, 0, ny-1, 0, 0)).extract_surface()\n",
    "p.add_mesh(bottom_subset, cmap='gray', scalars='vector', component=2, clim=(-2000, 2000),\n",
    "           lighting=False, show_scalar_bar=False)\n",
    "\n",
    "p.camera_position = \"xy\"\n",
    "p.camera.roll = -30\n",
    "p.camera.elevation = -70\n",
    "p.camera.zoom(1.3)\n",
    "p.show()"
   ]
  },
  {
   "cell_type": "code",
   "execution_count": null,
   "metadata": {},
   "outputs": [],
   "source": [
    "from rtmag.process.download.dl_map import get_aia_map\n",
    "import warnings; warnings.filterwarnings('ignore')"
   ]
  },
  {
   "cell_type": "code",
   "execution_count": null,
   "metadata": {},
   "outputs": [],
   "source": [
    "aia94_map = get_aia_map(d, wavelength=94)\n",
    "aia131_map = get_aia_map(d, wavelength=131)\n",
    "aia171_map = get_aia_map(d, wavelength=171)\n",
    "aia193_map = get_aia_map(d, wavelength=193)\n",
    "aia211_map = get_aia_map(d, wavelength=211)\n",
    "aia304_map = get_aia_map(d, wavelength=304)\n",
    "aia335_map = get_aia_map(d, wavelength=335)"
   ]
  },
  {
   "cell_type": "code",
   "execution_count": null,
   "metadata": {},
   "outputs": [],
   "source": [
    "import astropy.units as u"
   ]
  },
  {
   "cell_type": "code",
   "execution_count": null,
   "metadata": {},
   "outputs": [],
   "source": [
    "aia94_map_repro = aia94_map.reproject_to(hmi_map.wcs)\n",
    "aia94_map_repro = aia94_map_repro.resample([nx, ny] * u.pixel)\n",
    "\n",
    "aia131_map_repro = aia131_map.reproject_to(hmi_map.wcs)\n",
    "aia131_map_repro = aia131_map_repro.resample([nx, ny] * u.pixel)\n",
    "\n",
    "aia171_map_repro = aia171_map.reproject_to(hmi_map.wcs)\n",
    "aia171_map_repro = aia171_map_repro.resample([nx, ny] * u.pixel)\n",
    "\n",
    "aia193_map_repro = aia193_map.reproject_to(hmi_map.wcs)\n",
    "aia193_map_repro = aia193_map_repro.resample([nx, ny] * u.pixel)\n",
    "\n",
    "aia211_map_repro = aia211_map.reproject_to(hmi_map.wcs)\n",
    "aia211_map_repro = aia211_map_repro.resample([nx, ny] * u.pixel)\n",
    "\n",
    "aia304_map_repro = aia304_map.reproject_to(hmi_map.wcs)\n",
    "aia304_map_repro = aia304_map_repro.resample([nx, ny] * u.pixel)\n",
    "\n",
    "aia335_map_repro = aia335_map.reproject_to(hmi_map.wcs)\n",
    "aia335_map_repro = aia335_map_repro.resample([nx, ny] * u.pixel)"
   ]
  },
  {
   "cell_type": "code",
   "execution_count": null,
   "metadata": {},
   "outputs": [],
   "source": [
    "aia171_map_repro.peek()"
   ]
  },
  {
   "cell_type": "code",
   "execution_count": null,
   "metadata": {},
   "outputs": [],
   "source": [
    "from rtmag.process.paper.utils import get_j_map_Mm"
   ]
  },
  {
   "cell_type": "code",
   "execution_count": null,
   "metadata": {},
   "outputs": [],
   "source": [
    "j_map, jz_btm = get_j_map_Mm(b, dx, dy, dz)"
   ]
  },
  {
   "cell_type": "code",
   "execution_count": null,
   "metadata": {},
   "outputs": [],
   "source": [
    "plt.rcParams['font.size'] = 12\n",
    "fig, axes = plt.subplots(nrows=5, ncols=2, figsize=(10, 13), sharex=True, sharey=True)\n",
    "axes = axes.flatten()\n",
    "\n",
    "ax = axes[0]\n",
    "ax.pcolormesh(x, y, bottom.T, cmap='gray', vmin=-2000, vmax=2000)\n",
    "# ax.set_xlabel('x [Mm]')\n",
    "ax.set_ylabel('y [Mm]')\n",
    "ax.set_aspect('equal')\n",
    "for i, xl in enumerate(tracer_xs):\n",
    "    assert seeds[i] in xl\n",
    "    ax.plot(xl[:,0]*dx+x[0], xl[:,1]*dy+y[0], color='blue', linewidth=0.8)\n",
    "ax.set_title(\"PINO magnetic field line\")\n",
    "\n",
    "ax = axes[1]\n",
    "ax.pcolormesh(x, y, j_map.T, cmap='plasma',  vmin=0, vmax=2000)\n",
    "# ax.set_xlabel('x [Mm]')\n",
    "# ax.set_ylabel('y [Mm]')\n",
    "ax.set_aspect('equal')\n",
    "ax.set_title(\"PINO integrated current density map\")\n",
    "\n",
    "ax = axes[2]\n",
    "ax.pcolormesh(x, y, bottom.T, cmap='gray', vmin=-2000, vmax=2000)\n",
    "# ax.set_xlabel('x [Mm]')\n",
    "ax.set_ylabel('y [Mm]')\n",
    "ax.set_aspect('equal')\n",
    "ax.set_title(\"Photospheric magnetic field\")\n",
    "\n",
    "ax = axes[3]\n",
    "ax.pcolormesh(x, y, aia94_map_repro.data,\n",
    "              norm = aia94_map_repro.plot_settings['norm'],\n",
    "              cmap = aia94_map_repro.plot_settings['cmap'],)\n",
    "# ax.set_xlabel('x [Mm]')\n",
    "# ax.set_ylabel('y [Mm]')\n",
    "ax.set_aspect('equal')\n",
    "ax.set_title(\"AIA 94 $\\AA$\")\n",
    "\n",
    "ax = axes[4]\n",
    "ax.pcolormesh(x, y, aia131_map_repro.data,\n",
    "              norm = aia131_map_repro.plot_settings['norm'],\n",
    "              cmap = aia131_map_repro.plot_settings['cmap'],)\n",
    "# ax.set_xlabel('x [Mm]')\n",
    "ax.set_ylabel('y [Mm]')\n",
    "ax.set_aspect('equal')\n",
    "ax.set_title(\"AIA 131 $\\AA$\")\n",
    "\n",
    "ax = axes[5]\n",
    "ax.pcolormesh(x, y, aia171_map_repro.data,\n",
    "              norm = aia171_map_repro.plot_settings['norm'],\n",
    "              cmap = aia171_map_repro.plot_settings['cmap'],)\n",
    "# ax.set_xlabel('x [Mm]')\n",
    "# ax.set_ylabel('y [Mm]')\n",
    "ax.set_aspect('equal')\n",
    "ax.set_title(\"AIA 171 $\\AA$\")\n",
    "\n",
    "ax = axes[6]\n",
    "ax.pcolormesh(x, y, aia193_map_repro.data,\n",
    "              norm = aia193_map_repro.plot_settings['norm'],\n",
    "              cmap = aia193_map_repro.plot_settings['cmap'],)\n",
    "# ax.set_xlabel('x [Mm]')\n",
    "ax.set_ylabel('y [Mm]')\n",
    "ax.set_aspect('equal')\n",
    "ax.set_title(\"AIA 193 $\\AA$\")\n",
    "\n",
    "ax = axes[7]\n",
    "ax.pcolormesh(x, y, aia211_map_repro.data,\n",
    "              norm = aia211_map_repro.plot_settings['norm'],\n",
    "              cmap = aia211_map_repro.plot_settings['cmap'],)\n",
    "# ax.set_xlabel('x [Mm]')\n",
    "# ax.set_ylabel('y [Mm]')\n",
    "ax.set_aspect('equal')\n",
    "ax.set_title(\"AIA 211 $\\AA$\")\n",
    "\n",
    "ax = axes[8]\n",
    "ax.pcolormesh(x, y, aia304_map_repro.data,\n",
    "              norm = aia304_map_repro.plot_settings['norm'],\n",
    "              cmap = aia304_map_repro.plot_settings['cmap'],)\n",
    "ax.set_xlabel('x [Mm]')\n",
    "ax.set_ylabel('y [Mm]')\n",
    "ax.set_aspect('equal')\n",
    "ax.set_title(\"AIA 304 $\\AA$\")\n",
    "\n",
    "ax = axes[9]\n",
    "ax.pcolormesh(x, y, aia335_map_repro.data,\n",
    "              norm = aia335_map_repro.plot_settings['norm'],\n",
    "              cmap = aia335_map_repro.plot_settings['cmap'],)\n",
    "ax.set_xlabel('x [Mm]')\n",
    "# ax.set_ylabel('y [Mm]')\n",
    "ax.set_aspect('equal')\n",
    "ax.set_title(\"AIA 335 $\\AA$\")\n",
    "\n",
    "fig.suptitle(f\"AR {noaanum} at {d}\", y=1.01)\n",
    "plt.tight_layout()\n",
    "plt.show()"
   ]
  },
  {
   "cell_type": "code",
   "execution_count": null,
   "metadata": {},
   "outputs": [],
   "source": [
    "fl_cmap = plt.get_cmap('rainbow')\n",
    "fl_norm = plt.Normalize(vmin=0, vmax=30)\n",
    "values = np.abs(jz_btm.T[seeds[:, 0], seeds[:, 1]])"
   ]
  },
  {
   "cell_type": "code",
   "execution_count": null,
   "metadata": {},
   "outputs": [],
   "source": [
    "fig, ax = plt.subplots(ncols=1, nrows=1, figsize=(10, 6))\n",
    "ax.pcolormesh(x, y, bottom.T, cmap='gray', vmin=-2000, vmax=2000)\n",
    "ax.set_xlabel('x [Mm]')\n",
    "ax.set_ylabel('y [Mm]')\n",
    "ax.set_aspect('equal')\n",
    "colors = fl_cmap(fl_norm(values))\n",
    "for i, xl in enumerate(tracer_xs):\n",
    "    assert seeds[i] in xl\n",
    "    ax.plot(xl[:,0]*dx+x[0], xl[:,1]*dy+y[0], color=colors[i], linewidth=0.8)\n",
    "\n",
    "plt.tight_layout()\n",
    "plt.show()"
   ]
  },
  {
   "cell_type": "code",
   "execution_count": null,
   "metadata": {},
   "outputs": [],
   "source": []
  }
 ],
 "metadata": {
  "kernelspec": {
   "display_name": "python3",
   "name": "python3"
  }
 },
 "nbformat": 4,
 "nbformat_minor": 0
}
