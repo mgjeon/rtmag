{
 "cells": [
  {
   "cell_type": "code",
   "execution_count": null,
   "metadata": {},
   "outputs": [],
   "source": [
    "from IPython.display import Image\n",
    "from rtmag.process.download.find_harp import find_ar"
   ]
  },
  {
   "cell_type": "code",
   "execution_count": null,
   "metadata": {},
   "outputs": [],
   "source": [
    "# d = \"2011-02-14 00:00:00\"\n",
    "d = \"2024-01-06 11:48:00\"\n",
    "ar, img = find_ar(d, show_image=True)\n",
    "print(ar)\n",
    "Image(img)"
   ]
  },
  {
   "cell_type": "code",
   "execution_count": null,
   "metadata": {},
   "outputs": [],
   "source": [
    "harpnum = 10603"
   ]
  },
  {
   "cell_type": "code",
   "execution_count": null,
   "metadata": {},
   "outputs": [],
   "source": [
    "from rtmag.process.download.dl_map import get_sharp_map"
   ]
  },
  {
   "cell_type": "code",
   "execution_count": null,
   "metadata": {},
   "outputs": [],
   "source": [
    "hmi_map, hmi_data = get_sharp_map(d, harpnum)"
   ]
  },
  {
   "cell_type": "code",
   "execution_count": null,
   "metadata": {},
   "outputs": [],
   "source": [
    "hmi_map.peek()"
   ]
  },
  {
   "cell_type": "code",
   "execution_count": null,
   "metadata": {},
   "outputs": [],
   "source": [
    "hmi_data.shape"
   ]
  },
  {
   "cell_type": "code",
   "execution_count": null,
   "metadata": {},
   "outputs": [],
   "source": [
    "from rtmag.process.paper.hmi_to_input import get_input"
   ]
  },
  {
   "cell_type": "code",
   "execution_count": null,
   "metadata": {},
   "outputs": [],
   "source": [
    "nx = 512\n",
    "ny = 256\n",
    "\n",
    "model_input, x, y, z, dx, dy, dz = get_input(hmi_data, nx, ny)\n",
    "model_input.shape"
   ]
  },
  {
   "cell_type": "code",
   "execution_count": null,
   "metadata": {},
   "outputs": [],
   "source": [
    "meta_path = \"D:/models/uno/best_model.pt\"\n",
    "\n",
    "from rtmag.process.paper.load import MyModel\n",
    "device = \"cuda\""
   ]
  },
  {
   "cell_type": "code",
   "execution_count": null,
   "metadata": {},
   "outputs": [],
   "source": [
    "mm = MyModel(meta_path, device=device)"
   ]
  },
  {
   "cell_type": "code",
   "execution_count": null,
   "metadata": {},
   "outputs": [],
   "source": [
    "b = mm.get_pred_from_numpy(model_input)\n",
    "b.shape"
   ]
  },
  {
   "cell_type": "code",
   "execution_count": null,
   "metadata": {},
   "outputs": [],
   "source": [
    "import matplotlib.pyplot as plt\n",
    "import numpy as np"
   ]
  },
  {
   "cell_type": "code",
   "execution_count": null,
   "metadata": {},
   "outputs": [],
   "source": [
    "bottom = b[:, :, 0, 2]"
   ]
  },
  {
   "cell_type": "code",
   "execution_count": null,
   "metadata": {},
   "outputs": [],
   "source": [
    "fig, ax = plt.subplots()\n",
    "ax.pcolormesh(x, y, bottom.T, cmap='gray', vmin=-2000, vmax=2000)\n",
    "ax.set_xlabel('x [Mm]')\n",
    "ax.set_ylabel('y [Mm]')\n",
    "ax.set_aspect('equal')\n",
    "ax.set_title(\"PINO's output at z=0\")\n",
    "plt.tight_layout()\n",
    "plt.show()"
   ]
  },
  {
   "cell_type": "code",
   "execution_count": null,
   "metadata": {},
   "outputs": [],
   "source": [
    "mask = np.abs(bottom) > 500\n",
    "fig, ax = plt.subplots()\n",
    "ax.pcolormesh(x, y, (bottom*mask).T, cmap='gray', vmin=-2000, vmax=2000)\n",
    "ax.set_xlabel('x [Mm]')\n",
    "ax.set_ylabel('y [Mm]')\n",
    "ax.set_aspect('equal')\n",
    "plt.tight_layout()\n",
    "plt.show()"
   ]
  },
  {
   "cell_type": "code",
   "execution_count": null,
   "metadata": {},
   "outputs": [],
   "source": [
    "stride = 20\n",
    "seeds = np.stack([np.where(mask == True)[0], \n",
    "                  np.where(mask == True)[1], \n",
    "                  np.zeros_like(np.where(mask == True)[0])], axis=1)\n",
    "seeds = seeds[::stride]\n",
    "seeds.shape"
   ]
  },
  {
   "cell_type": "code",
   "execution_count": null,
   "metadata": {},
   "outputs": [],
   "source": [
    "from streamtracer import StreamTracer, VectorGrid"
   ]
  },
  {
   "cell_type": "code",
   "execution_count": null,
   "metadata": {},
   "outputs": [],
   "source": [
    "nsteps = 10000\n",
    "step_size = 0.1\n",
    "grid_spacing = [1, 1, 1]\n",
    "\n",
    "grid = VectorGrid(b.astype(np.float64), grid_spacing)\n",
    "tracer = StreamTracer(nsteps, step_size)\n",
    "tracer_xs = []\n",
    "tracer.trace(seeds, grid)\n",
    "tracer_xs.append(tracer.xs)\n",
    "tracer_xs = [item for sublist in tracer_xs for item in sublist]"
   ]
  },
  {
   "cell_type": "code",
   "execution_count": null,
   "metadata": {},
   "outputs": [],
   "source": [
    "fig, ax = plt.subplots()\n",
    "ax.pcolormesh(x, y, bottom.T, cmap='gray', vmin=-2000, vmax=2000)\n",
    "ax.set_xlabel('x [Mm]')\n",
    "ax.set_ylabel('y [Mm]')\n",
    "ax.set_aspect('equal')\n",
    "for i, xl in enumerate(tracer_xs):\n",
    "    assert seeds[i] in xl \n",
    "    ax.plot(xl[:,0]*dx+x[0], xl[:,1]*dy+y[0], color='blue', linewidth=0.8)\n",
    "plt.tight_layout()\n",
    "plt.show()"
   ]
  },
  {
   "cell_type": "code",
   "execution_count": null,
   "metadata": {},
   "outputs": [],
   "source": [
    "from rtmag.process.download.dl_map import get_aia_map"
   ]
  },
  {
   "cell_type": "code",
   "execution_count": null,
   "metadata": {},
   "outputs": [],
   "source": [
    "aia_map = get_aia_map(d, wavelength=171)"
   ]
  },
  {
   "cell_type": "code",
   "execution_count": null,
   "metadata": {},
   "outputs": [],
   "source": [
    "aia_map.peek()"
   ]
  },
  {
   "cell_type": "code",
   "execution_count": null,
   "metadata": {},
   "outputs": [],
   "source": [
    "import astropy.units as u"
   ]
  },
  {
   "cell_type": "code",
   "execution_count": null,
   "metadata": {},
   "outputs": [],
   "source": [
    "aia_map_repro = aia_map.reproject_to(hmi_map.wcs)\n",
    "aia_map_repro = aia_map_repro.resample([nx, ny] * u.pixel)"
   ]
  },
  {
   "cell_type": "code",
   "execution_count": null,
   "metadata": {},
   "outputs": [],
   "source": [
    "aia_map_repro.peek()"
   ]
  },
  {
   "cell_type": "code",
   "execution_count": null,
   "metadata": {},
   "outputs": [],
   "source": [
    "fig, axes = plt.subplots(ncols=1, nrows=2, figsize=(10, 6))\n",
    "ax = axes[0]\n",
    "ax.pcolormesh(x, y, aia_map_repro.data, \n",
    "              norm = aia_map_repro.plot_settings['norm'],\n",
    "              cmap = aia_map_repro.plot_settings['cmap'],) \n",
    "ax.set_xlabel('x [Mm]')\n",
    "ax.set_ylabel('y [Mm]')\n",
    "ax.set_aspect('equal')\n",
    "\n",
    "ax = axes[1]\n",
    "ax.pcolormesh(x, y, bottom.T, cmap='gray', vmin=-2000, vmax=2000)\n",
    "ax.set_xlabel('x [Mm]')\n",
    "ax.set_ylabel('y [Mm]')\n",
    "ax.set_aspect('equal')\n",
    "for i, xl in enumerate(tracer_xs):\n",
    "    assert seeds[i] in xl \n",
    "    ax.plot(xl[:,0]*dx+x[0], xl[:,1]*dy+y[0], color='blue', linewidth=0.8)\n",
    "\n",
    "plt.tight_layout()\n",
    "plt.show()"
   ]
  },
  {
   "cell_type": "code",
   "execution_count": null,
   "metadata": {},
   "outputs": [],
   "source": [
    "import pyvista as pv"
   ]
  },
  {
   "cell_type": "code",
   "execution_count": null,
   "metadata": {},
   "outputs": [],
   "source": [
    "xv, yv, zv = np.meshgrid(x, y, z, indexing='ij')\n",
    "mesh = pv.StructuredGrid(xv, yv, zv)\n",
    "bx, by, bz = b[..., 0], b[..., 1], b[..., 2]\n",
    "vectors = np.stack([bx, by, bz], axis=-1).transpose(2, 1, 0, 3).reshape(-1, 3)\n",
    "mesh['vector'] = vectors\n",
    "mesh.active_vectors_name = 'vector'\n",
    "mesh"
   ]
  },
  {
   "cell_type": "code",
   "execution_count": null,
   "metadata": {},
   "outputs": [],
   "source": [
    "xx, yy = np.meshgrid(x, y, indexing='ij')\n",
    "seeds_xs = np.stack([xx[seeds[:, 0], seeds[:, 1]], \n",
    "                     yy[seeds[:, 0], seeds[:, 1]], \n",
    "                     np.zeros_like(seeds[:, 0])], axis=1)\n",
    "seeds_xs.shape"
   ]
  },
  {
   "cell_type": "code",
   "execution_count": null,
   "metadata": {},
   "outputs": [],
   "source": [
    "pv.global_theme.notebook = True\n",
    "# pv.global_theme.jupyter_backend = 'static'\n",
    "pv.global_theme.jupyter_backend = 'trame'"
   ]
  },
  {
   "cell_type": "code",
   "execution_count": null,
   "metadata": {},
   "outputs": [],
   "source": [
    "p = pv.Plotter(window_size=(1000, 600))\n",
    "\n",
    "p.show_bounds(\n",
    "    grid='front',\n",
    "    show_xlabels=False,\n",
    "    show_ylabels=False,\n",
    "    show_zlabels=False,\n",
    ")\n",
    "p.add_mesh(mesh.outline(), color='k')\n",
    "\n",
    "seed = pv.PolyData(seeds_xs)\n",
    "strl = mesh.streamlines_from_source(seed, vectors='vector', integration_direction='both',\n",
    "                                    max_time=10000, initial_step_length=0.1)\n",
    "p.add_mesh(strl.tube(radius=0.4), color='blue')\n",
    "\n",
    "bottom_subset = mesh.extract_subset((0, nx-1, 0, ny-1, 0, 0)).extract_surface()\n",
    "p.add_mesh(bottom_subset, cmap='gray', scalars='vector', component=2, clim=(-2000, 2000), \n",
    "           lighting=False, show_scalar_bar=False)\n",
    "\n",
    "p.camera_position = \"xy\"\n",
    "p.camera.roll = -30\n",
    "p.camera.elevation = -70\n",
    "p.show()"
   ]
  },
  {
   "cell_type": "code",
   "execution_count": null,
   "metadata": {},
   "outputs": [],
   "source": []
  }
 ],
 "metadata": {
  "kernelspec": {
   "display_name": "python3",
   "language": "python",
   "name": "python3"
  }
 },
 "nbformat": 4,
 "nbformat_minor": 2
}
