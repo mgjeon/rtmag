{
 "cells": [
  {
   "cell_type": "code",
   "execution_count": null,
   "metadata": {},
   "outputs": [],
   "source": [
    "email = \"mgjeon@khu.ac.kr\"\n",
    "\n",
    "start_time = \"2017-09-04 23:59:00\"\n",
    "end_time = \"2017-09-05 00:01:00\"\n",
    "\n",
    "harpnum = \"7115\"\n",
    "download_path = \"D:/data/download/12673/hmi\""
   ]
  },
  {
   "cell_type": "code",
   "execution_count": null,
   "metadata": {},
   "outputs": [],
   "source": [
    "from rtmag.process.download import dl_sdo"
   ]
  },
  {
   "cell_type": "code",
   "execution_count": null,
   "metadata": {},
   "outputs": [],
   "source": [
    "dl_sdo.download_sharp(download_path, \n",
    "                      start_time, end_time, \n",
    "                      harpnum,\n",
    "                      email)"
   ]
  }
 ],
 "metadata": {
  "kernelspec": {
   "display_name": "python3",
   "language": "python",
   "name": "python3"
  }
 },
 "nbformat": 4,
 "nbformat_minor": 2
}
