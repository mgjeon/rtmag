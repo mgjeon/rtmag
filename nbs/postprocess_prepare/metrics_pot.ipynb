{
 "cells": [
  {
   "cell_type": "code",
   "execution_count": null,
   "metadata": {},
   "outputs": [],
   "source": [
    "res_val_path = \"D:/data/metric/all/val/potential\"\n",
    "res_test_path = \"D:/data/metric/all/test/potential\"\n",
    "\n",
    "csv_path = \"D:/data/metric/all_csv\""
   ]
  },
  {
   "cell_type": "code",
   "execution_count": null,
   "metadata": {},
   "outputs": [],
   "source": [
    "from rtmag.process.paper.utils import load_yaml_to_dict\n",
    "\n",
    "config_dict = load_yaml_to_dict(\"metrics.yaml\")\n",
    "\n",
    "dataset_path = config_dict[\"dataset_path\"]\n",
    "exc_noaa = config_dict[\"exc_noaa\"]\n",
    "val_path = config_dict[\"val_path\"]\n",
    "test_path = config_dict[\"test_path\"]"
   ]
  },
  {
   "cell_type": "code",
   "execution_count": null,
   "metadata": {},
   "outputs": [],
   "source": [
    "from pathlib import Path"
   ]
  },
  {
   "cell_type": "code",
   "execution_count": null,
   "metadata": {},
   "outputs": [],
   "source": [
    "files = list(Path(dataset_path).glob('**/label/*.npz'))\n",
    "if isinstance(exc_noaa, str):\n",
    "    files = sorted([f for f in files if not exc_noaa == str(f.parent.parent.stem)])\n",
    "elif isinstance(exc_noaa, list):\n",
    "    files = sorted([f for f in files if not exc_noaa[0] == str(f.parent.parent.stem)])\n",
    "    for t_noaa in exc_noaa[1:]:\n",
    "        files = sorted([f for f in files if not t_noaa == str(f.parent.parent.stem)])"
   ]
  },
  {
   "cell_type": "code",
   "execution_count": null,
   "metadata": {},
   "outputs": [],
   "source": [
    "val_files = []\n",
    "for d_path in val_path:\n",
    "    val_files += list(Path(d_path).glob('**/label/*.npz'))\n",
    "val_files = sorted([f for f in val_files])"
   ]
  },
  {
   "cell_type": "code",
   "execution_count": null,
   "metadata": {},
   "outputs": [],
   "source": [
    "test_files = []\n",
    "for d_path in test_path:\n",
    "    test_files += list(Path(d_path).glob('**/label/*.npz'))\n",
    "test_files = sorted([f for f in test_files])"
   ]
  },
  {
   "cell_type": "code",
   "execution_count": null,
   "metadata": {},
   "outputs": [],
   "source": [
    "len(files), len(val_files), len(test_files)"
   ]
  },
  {
   "cell_type": "code",
   "execution_count": null,
   "metadata": {},
   "outputs": [],
   "source": [
    "import numpy as np\n",
    "from tqdm import tqdm\n",
    "\n",
    "from rtmag.process.paper.utils import get_label\n",
    "from rtmag.process.paper.potential_field import get_potential_field"
   ]
  },
  {
   "cell_type": "code",
   "execution_count": null,
   "metadata": {},
   "outputs": [],
   "source": [
    "res_val_path = Path(res_val_path)\n",
    "res_val_path.mkdir(exist_ok=True, parents=True)"
   ]
  },
  {
   "cell_type": "code",
   "execution_count": null,
   "metadata": {},
   "outputs": [],
   "source": [
    "for file in tqdm(val_files):\n",
    "    target = res_val_path / f\"{file.stem}_pot.npy\"\n",
    "    if not target.exists():\n",
    "        b_isee = get_label(file)\n",
    "        bottom = b_isee[:, :, 0, :]\n",
    "        nx, ny, nz, _ = b_isee.shape\n",
    "        b_pot = get_potential_field(bottom[..., 2], nz, l=0.5)\n",
    "        np.save(target, b_pot)"
   ]
  },
  {
   "cell_type": "code",
   "execution_count": null,
   "metadata": {},
   "outputs": [],
   "source": [
    "res_test_path = Path(res_test_path)\n",
    "res_test_path.mkdir(exist_ok=True, parents=True)"
   ]
  },
  {
   "cell_type": "code",
   "execution_count": null,
   "metadata": {},
   "outputs": [],
   "source": [
    "for file in tqdm(test_files):\n",
    "    target = res_test_path / f\"{file.stem}_pot.npy\"\n",
    "    if not target.exists():\n",
    "        b_isee = get_label(file)\n",
    "        bottom = b_isee[:, :, 0, :]\n",
    "        nx, ny, nz, _ = b_isee.shape\n",
    "        b_pot = get_potential_field(bottom[..., 2], nz, l=0.5)\n",
    "        np.save(target, b_pot)"
   ]
  },
  {
   "cell_type": "code",
   "execution_count": null,
   "metadata": {},
   "outputs": [],
   "source": [
    "import pandas as pd\n",
    "import rtmag.process.paper.metric as m"
   ]
  },
  {
   "cell_type": "code",
   "execution_count": null,
   "metadata": {},
   "outputs": [],
   "source": [
    "csv_path = Path(csv_path)\n",
    "csv_path.mkdir(exist_ok=True, parents=True)"
   ]
  },
  {
   "cell_type": "code",
   "execution_count": null,
   "metadata": {},
   "outputs": [],
   "source": [
    "results = []\n",
    "for file in tqdm(val_files):\n",
    "    b_isee = get_label(file)\n",
    "\n",
    "    target = res_val_path / f\"{file.stem}_pot.npy\"\n",
    "    b_pot = np.load(target)\n",
    "\n",
    "    res = m.evaluate(b_pot, b_isee, ret=False)\n",
    "    res.update({'file':file.stem})\n",
    "    results.append(res)\n",
    "\n",
    "    df = pd.DataFrame.from_dict(results)\n",
    "    df.to_csv(csv_path / 'metrics_val_pot.csv', index=False)"
   ]
  },
  {
   "cell_type": "code",
   "execution_count": null,
   "metadata": {},
   "outputs": [],
   "source": [
    "results = []\n",
    "for file in tqdm(test_files):\n",
    "    b_isee = get_label(file)\n",
    "\n",
    "    target = res_test_path / f\"{file.stem}_pot.npy\"\n",
    "    b_pot = np.load(target)\n",
    "\n",
    "    res = m.evaluate(b_pot, b_isee, ret=False)\n",
    "    res.update({'file':file.stem})\n",
    "    results.append(res)\n",
    "\n",
    "    df = pd.DataFrame.from_dict(results)\n",
    "    df.to_csv(csv_path / 'metrics_test_pot.csv', index=False)"
   ]
  },
  {
   "cell_type": "code",
   "execution_count": null,
   "metadata": {},
   "outputs": [],
   "source": []
  }
 ],
 "metadata": {
  "kernelspec": {
   "display_name": "python3",
   "language": "python",
   "name": "python3"
  }
 },
 "nbformat": 4,
 "nbformat_minor": 2
}
