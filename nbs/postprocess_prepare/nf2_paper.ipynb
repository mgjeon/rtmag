{
 "cells": [
  {
   "cell_type": "code",
   "execution_count": null,
   "metadata": {},
   "outputs": [],
   "source": [
    "# https://www.nature.com/articles/s41550-023-02030-9\n",
    "meta_path = \"D:/data/nf2/paper\"\n",
    "\n",
    "result_path = \"D:/data/nf2/paper-csv\""
   ]
  },
  {
   "cell_type": "code",
   "execution_count": null,
   "metadata": {},
   "outputs": [],
   "source": [
    "import pandas as pd\n",
    "import matplotlib.pyplot as plt \n",
    "from datetime import datetime, timedelta\n",
    "from pathlib import Path"
   ]
  },
  {
   "cell_type": "code",
   "execution_count": null,
   "metadata": {},
   "outputs": [],
   "source": [
    "def return_date_column(csv_path):\n",
    "    df = pd.read_csv(csv_path, index_col=False)\n",
    "    columns = df.columns\n",
    "    date = df[columns[0]].map(lambda x: datetime(1979, 1, 1) + timedelta(seconds=x*1e9 + 100))\n",
    "\n",
    "    idx_energy = -6\n",
    "    idx_free = -4\n",
    "    E = df[columns[idx_energy]]\n",
    "    Ef = df[columns[idx_free]]\n",
    "    Ep = E - Ef\n",
    "\n",
    "    return date, E, Ep, Ef"
   ]
  },
  {
   "cell_type": "code",
   "execution_count": null,
   "metadata": {},
   "outputs": [],
   "source": [
    "start_date = '2011-02-12 00:00:00'\n",
    "end_date = '2011-02-17 00:00:00'\n",
    "\n",
    "# Convert start and end date strings to datetime objects\n",
    "start_datetime = datetime.strptime(start_date, '%Y-%m-%d %H:%M:%S')\n",
    "end_datetime = datetime.strptime(end_date, '%Y-%m-%d %H:%M:%S')\n",
    "\n",
    "# Create a datetime index with 12-minute intervals\n",
    "date_range = pd.date_range(start=start_datetime, end=end_datetime, freq='12min')\n",
    "\n",
    "# Create a DataFrame with the datetime index\n",
    "dates = pd.Series(date_range)"
   ]
  },
  {
   "cell_type": "code",
   "execution_count": null,
   "metadata": {},
   "outputs": [],
   "source": [
    "meta_path = Path(meta_path)"
   ]
  },
  {
   "cell_type": "code",
   "execution_count": null,
   "metadata": {},
   "outputs": [],
   "source": [
    "result_path = Path(result_path)\n",
    "result_path.mkdir(parents=True, exist_ok=True)"
   ]
  },
  {
   "cell_type": "code",
   "execution_count": null,
   "metadata": {},
   "outputs": [],
   "source": [
    "metrics_lambda_1 = meta_path / \"41550_2023_2030_MOESM3_ESM.csv\"\n",
    "_, E_d1, Ep_d1, _ = return_date_column(metrics_lambda_1)\n",
    "df_lambda_1 = pd.DataFrame({'obstime': dates, 'pred_E_1e33': E_d1, 'pot_E_1e33': Ep_d1})\n",
    "df_lambda_1.to_csv(result_path / 'res_lambda_1.csv', index=False)"
   ]
  },
  {
   "cell_type": "code",
   "execution_count": null,
   "metadata": {},
   "outputs": [],
   "source": [
    "metrics_lambda_01 = meta_path / \"41550_2023_2030_MOESM4_ESM.csv\"\n",
    "_, E_d01, Ep_d01, _ = return_date_column(metrics_lambda_01)\n",
    "df_lambda_01 = pd.DataFrame({'obstime': dates, 'pred_E_1e33': E_d01, 'pot_E_1e33': Ep_d01})\n",
    "df_lambda_01.to_csv(result_path / 'res_lambda_01.csv', index=False)"
   ]
  },
  {
   "cell_type": "code",
   "execution_count": null,
   "metadata": {},
   "outputs": [],
   "source": [
    "metrics_wd_1 = meta_path / \"41550_2023_2030_MOESM6_ESM.csv\"\n",
    "date_w1, E_w1, Ep_w1, _ = return_date_column(metrics_wd_1)\n",
    "df_w1 = pd.DataFrame({'obstime': date_w1, 'pred_E_1e33': E_w1, 'pot_E_1e33': Ep_w1})\n",
    "df_w1.loc[41, 'obstime'] += timedelta(seconds=-40)\n",
    "df_w1.loc[42, 'obstime'] += timedelta(seconds=-20)\n",
    "df_w1.loc[44, 'obstime'] += timedelta(seconds=20)\n",
    "df_w1.loc[45, 'obstime'] += timedelta(seconds=-60)\n",
    "df_w1.loc[46, 'obstime'] += timedelta(seconds=-40)\n",
    "df_w1.loc[47, 'obstime'] += timedelta(seconds=-20)\n",
    "df_w1.loc[49, 'obstime'] += timedelta(seconds=20)\n",
    "df_w1.loc[50, 'obstime'] += timedelta(seconds=-60)\n",
    "df_w1.loc[51, 'obstime'] += timedelta(seconds=-40)\n",
    "df_w1.loc[82, 'obstime'] += timedelta(seconds=-20)\n",
    "df_w1.loc[84, 'obstime'] += timedelta(seconds=20)\n",
    "df_w1.loc[85, 'obstime'] += timedelta(seconds=-60)\n",
    "df_w1.loc[86, 'obstime'] += timedelta(seconds=-40)\n",
    "df_w1.loc[87, 'obstime'] += timedelta(seconds=-20)\n",
    "df_w1.loc[89, 'obstime'] += timedelta(seconds=20)\n",
    "df_w1.loc[90, 'obstime'] += timedelta(seconds=-60)\n",
    "df_w1.loc[91, 'obstime'] += timedelta(seconds=-40)\n",
    "df_w1.loc[92, 'obstime'] += timedelta(seconds=-20)\n",
    "df_w1.to_csv(result_path / 'res_w1.csv', index=False)"
   ]
  },
  {
   "cell_type": "code",
   "execution_count": null,
   "metadata": {},
   "outputs": [],
   "source": [
    "metrics_wd_2 = meta_path / \"41550_2023_2030_MOESM7_ESM.csv\"\n",
    "date_w2, E_w2, Ep_w2, _ = return_date_column(metrics_wd_2)\n",
    "df_w2 = pd.DataFrame({'obstime': date_w2, 'pred_E_1e33': E_w2, 'pot_E_1e33': Ep_w2})\n",
    "df_w2.loc[41, 'obstime'] += timedelta(seconds=-40)\n",
    "df_w2.loc[42, 'obstime'] += timedelta(seconds=-20)\n",
    "df_w2.loc[44, 'obstime'] += timedelta(seconds=20)\n",
    "df_w2.loc[45, 'obstime'] += timedelta(seconds=-60)\n",
    "df_w2.loc[46, 'obstime'] += timedelta(seconds=-40)\n",
    "df_w2.loc[47, 'obstime'] += timedelta(seconds=-20)\n",
    "df_w2.loc[49, 'obstime'] += timedelta(seconds=20)\n",
    "df_w2.loc[50, 'obstime'] += timedelta(seconds=-60)\n",
    "df_w2.loc[51, 'obstime'] += timedelta(seconds=-40)\n",
    "df_w2.loc[82, 'obstime'] += timedelta(seconds=-20)\n",
    "df_w2.loc[84, 'obstime'] += timedelta(seconds=20)\n",
    "df_w2.loc[85, 'obstime'] += timedelta(seconds=-60)\n",
    "df_w2.loc[86, 'obstime'] += timedelta(seconds=-40)\n",
    "df_w2.loc[87, 'obstime'] += timedelta(seconds=-20)\n",
    "df_w2.loc[89, 'obstime'] += timedelta(seconds=20)\n",
    "df_w2.loc[90, 'obstime'] += timedelta(seconds=-60)\n",
    "df_w2.loc[91, 'obstime'] += timedelta(seconds=-40)\n",
    "df_w2.loc[92, 'obstime'] += timedelta(seconds=-20)\n",
    "df_w2.to_csv(result_path / 'res_w2.csv', index=False)"
   ]
  },
  {
   "cell_type": "code",
   "execution_count": null,
   "metadata": {},
   "outputs": [],
   "source": []
  }
 ],
 "metadata": {
  "kernelspec": {
   "display_name": "python3",
   "language": "python",
   "name": "python3"
  }
 },
 "nbformat": 4,
 "nbformat_minor": 2
}
