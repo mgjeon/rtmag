{
 "cells": [
  {
   "cell_type": "code",
   "execution_count": null,
   "metadata": {},
   "outputs": [],
   "source": [
    "isee_reference = \"F:/isee_dataset/11158/label\"\n",
    "\n",
    "\n",
    "energy_isee_path = \"D:/data/metric_npy/series/11158/energy_isee.csv\"\n",
    "\n",
    "energy_pot_path = \"D:/data/metric_npy/series/11158/energy_potential.csv\"\n",
    "energy_pot_opt_path = \"D:/data/metric_npy/series/11158/energy_potential_opt.csv\"\n",
    "energy_pino_path = \"D:/data/metric_npy/series/11158/energy_pino.csv\"\n",
    "energy_pino_opt_path = \"D:/data/metric_npy/series/11158/energy_pino_opt.csv\""
   ]
  },
  {
   "cell_type": "code",
   "execution_count": null,
   "metadata": {},
   "outputs": [],
   "source": [
    "import numpy as np\n",
    "from pathlib import Path\n",
    "import pandas as pd\n",
    "from tqdm import tqdm\n",
    "\n",
    "from rtmag.process.paper.utils import get_label_xyz, get_pot, input_to_model_input, energy, get_model_input"
   ]
  },
  {
   "cell_type": "code",
   "execution_count": null,
   "metadata": {},
   "outputs": [],
   "source": [
    "isee_reference = Path(isee_reference)\n",
    "isee_reference_files = sorted(isee_reference.glob(\"*.npz\"))\n",
    "len(isee_reference_files)"
   ]
  },
  {
   "cell_type": "code",
   "execution_count": null,
   "metadata": {},
   "outputs": [],
   "source": []
  },
  {
   "cell_type": "code",
   "execution_count": null,
   "metadata": {},
   "outputs": [],
   "source": [
    "energy_isee_path = Path(energy_isee_path)\n",
    "energy_isee_path.parent.mkdir(parents=True, exist_ok=True)\n",
    "\n",
    "energy_pot_path = Path(energy_pot_path)\n",
    "energy_pot_path.parent.mkdir(parents=True, exist_ok=True)\n",
    "\n",
    "energy_pot_opt_path = Path(energy_pot_opt_path)\n",
    "energy_pot_opt_path.parent.mkdir(parents=True, exist_ok=True)\n",
    "\n",
    "energy_pino_path = Path(energy_pino_path)\n",
    "energy_pino_path.parent.mkdir(parents=True, exist_ok=True)\n",
    "\n",
    "energy_pino_opt_path = Path(energy_pino_opt_path)\n",
    "energy_pino_opt_path.parent.mkdir(parents=True, exist_ok=True)"
   ]
  },
  {
   "cell_type": "code",
   "execution_count": null,
   "metadata": {},
   "outputs": [],
   "source": [
    "if not energy_isee_path.exists():\n",
    "    results = []\n",
    "    for isee_ref_file in tqdm(isee_reference_files):\n",
    "        res = {}\n",
    "        timestamp = isee_ref_file.stem[12:]\n",
    "        B, x, y, z = get_label_xyz(isee_ref_file)\n",
    "        Bp = get_pot(isee_ref_file)\n",
    "        dx = x[1] - x[0]\n",
    "        dy = y[1] - y[0]\n",
    "        dz = z[1] - z[0]\n",
    "        e = energy(B)\n",
    "        ep = energy(Bp)\n",
    "        res[\"obstime\"] = timestamp\n",
    "        res[\"energy\"] = e\n",
    "        res[\"energy_pot\"] = ep\n",
    "        res[\"dx\"] = dx\n",
    "        res[\"dy\"] = dy\n",
    "        res[\"dz\"] = dz\n",
    "\n",
    "        results.append(res)\n",
    "        df = pd.DataFrame.from_dict(results)\n",
    "        df.to_csv(energy_isee_path, index=False)"
   ]
  },
  {
   "cell_type": "code",
   "execution_count": null,
   "metadata": {},
   "outputs": [],
   "source": [
    "root = Path(\"D:/data/metric/all/test/potential\")\n",
    "\n",
    "if not energy_pot_path.exists():\n",
    "    results = []\n",
    "    for isee_ref_file in tqdm(isee_reference_files):\n",
    "        res = {}\n",
    "\n",
    "        timestamp = isee_ref_file.stem[12:]\n",
    "        file = isee_ref_file.name[:-4] + \"_pot.npy\"\n",
    "        f = root / file\n",
    "\n",
    "        b = np.load(f)\n",
    "        e = energy(b)\n",
    "        res[\"obstime\"] = timestamp\n",
    "        res[\"energy\"] = e\n",
    "\n",
    "        results.append(res)\n",
    "        df = pd.DataFrame.from_dict(results)\n",
    "        df.to_csv(energy_pot_path, index=False)"
   ]
  },
  {
   "cell_type": "code",
   "execution_count": null,
   "metadata": {},
   "outputs": [],
   "source": [
    "root = Path(\"D:/data/metric/all/test/potential_opt\")\n",
    "\n",
    "if not energy_pot_opt_path.exists():\n",
    "    results = []\n",
    "    for isee_ref_file in tqdm(isee_reference_files):\n",
    "        res = {}\n",
    "\n",
    "        timestamp = isee_ref_file.stem[12:]\n",
    "        file = isee_ref_file.name[:-4] + \"_relax.npy\"\n",
    "        f = root / file\n",
    "\n",
    "        b = np.load(f)\n",
    "        e = energy(b)\n",
    "        res[\"obstime\"] = timestamp\n",
    "        res[\"energy\"] = e\n",
    "\n",
    "        results.append(res)\n",
    "        df = pd.DataFrame.from_dict(results)\n",
    "        df.to_csv(energy_pot_opt_path, index=False)"
   ]
  },
  {
   "cell_type": "code",
   "execution_count": null,
   "metadata": {},
   "outputs": [],
   "source": [
    "root = Path(\"D:/data/metric/all/test/pino\")\n",
    "\n",
    "if not energy_pino_path.exists():\n",
    "    results = []\n",
    "    for isee_ref_file in tqdm(isee_reference_files):\n",
    "        res = {}\n",
    "\n",
    "        timestamp = isee_ref_file.stem[12:]\n",
    "        file = isee_ref_file.name[:-4] + \"_pino.npy\"\n",
    "        f = root / file\n",
    "\n",
    "        b = np.load(f)\n",
    "        e = energy(b)\n",
    "        res[\"obstime\"] = timestamp\n",
    "        res[\"energy\"] = e\n",
    "\n",
    "        results.append(res)\n",
    "        df = pd.DataFrame.from_dict(results)\n",
    "        df.to_csv(energy_pino_path, index=False)"
   ]
  },
  {
   "cell_type": "code",
   "execution_count": null,
   "metadata": {},
   "outputs": [],
   "source": [
    "root = Path(\"D:/data/metric/all/test/pino_opt\")\n",
    "\n",
    "if not energy_pino_opt_path.exists():\n",
    "    results = []\n",
    "    for isee_ref_file in tqdm(isee_reference_files):\n",
    "        res = {}\n",
    "\n",
    "        timestamp = isee_ref_file.stem[12:]\n",
    "        file = isee_ref_file.name[:-4] + \"_pino_relax.npy\"\n",
    "        f = root / file\n",
    "\n",
    "        b = np.load(f)\n",
    "        e = energy(b)\n",
    "        res[\"obstime\"] = timestamp\n",
    "        res[\"energy\"] = e\n",
    "\n",
    "        results.append(res)\n",
    "        df = pd.DataFrame.from_dict(results)\n",
    "        df.to_csv(energy_pino_opt_path, index=False)"
   ]
  },
  {
   "cell_type": "code",
   "execution_count": null,
   "metadata": {},
   "outputs": [],
   "source": []
  }
 ],
 "metadata": {
  "kernelspec": {
   "display_name": "python3",
   "language": "python",
   "name": "python3"
  }
 },
 "nbformat": 4,
 "nbformat_minor": 2
}
