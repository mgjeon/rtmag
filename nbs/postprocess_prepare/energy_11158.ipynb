{
 "cells": [
  {
   "cell_type": "code",
   "execution_count": null,
   "metadata": {},
   "outputs": [],
   "source": [
    "meta_path = \"D:/models/uno/best_model.pt\"\n",
    "\n",
    "\n",
    "isee_reference = \"F:/isee_dataset/11158/label\"\n",
    "congrid_input = \"D:/data/inputs/11158/congrid\"\n",
    "\n",
    "energy_isee_path = \"D:/data/metric/series/11158/energy_isee.csv\"\n",
    "energy_pinocongrid_path = \"D:/data/metric/series/11158/energy_pinocongrid.csv\""
   ]
  },
  {
   "cell_type": "code",
   "execution_count": null,
   "metadata": {},
   "outputs": [],
   "source": [
    "from pathlib import Path\n",
    "import pandas as pd\n",
    "from tqdm import tqdm\n",
    "\n",
    "from rtmag.process.paper.load import MyModel\n",
    "from rtmag.process.paper.utils import get_label_xyz, get_pot, input_to_model_input, energy, get_model_input"
   ]
  },
  {
   "cell_type": "code",
   "execution_count": null,
   "metadata": {},
   "outputs": [],
   "source": [
    "mm = MyModel(meta_path)"
   ]
  },
  {
   "cell_type": "code",
   "execution_count": null,
   "metadata": {},
   "outputs": [],
   "source": [
    "isee_reference = Path(isee_reference)\n",
    "isee_reference_files = sorted(isee_reference.glob(\"*.npz\"))\n",
    "\n",
    "congrid_input = Path(congrid_input)\n",
    "congrid_input_files = sorted(congrid_input.glob(\"*.npz\"))"
   ]
  },
  {
   "cell_type": "code",
   "execution_count": null,
   "metadata": {},
   "outputs": [],
   "source": [
    "energy_isee_path = Path(energy_isee_path)\n",
    "energy_isee_path.parent.mkdir(parents=True, exist_ok=True)\n",
    "\n",
    "energy_pinocongrid_path = Path(energy_pinocongrid_path)\n",
    "energy_pinocongrid_path.parent.mkdir(parents=True, exist_ok=True)"
   ]
  },
  {
   "cell_type": "code",
   "execution_count": null,
   "metadata": {},
   "outputs": [],
   "source": [
    "if not energy_isee_path.exists():\n",
    "    results = []\n",
    "    for isee_ref_file in tqdm(isee_reference_files):\n",
    "        res = {}\n",
    "        timestamp = isee_ref_file.stem[12:]\n",
    "        B, x, y, z = get_label_xyz(isee_ref_file)\n",
    "        Bp = get_pot(isee_ref_file)\n",
    "        dx = x[1] - x[0]\n",
    "        dy = y[1] - y[0]\n",
    "        dz = z[1] - z[0]\n",
    "        e = energy(B)\n",
    "        ep = energy(Bp)\n",
    "        res[\"obstime\"] = timestamp\n",
    "        res[\"energy\"] = e\n",
    "        res[\"energy_pot\"] = ep\n",
    "        res[\"dx\"] = dx\n",
    "        res[\"dy\"] = dy\n",
    "        res[\"dz\"] = dz\n",
    "\n",
    "        results.append(res)\n",
    "        df = pd.DataFrame.from_dict(results)\n",
    "        df.to_csv(energy_isee_path, index=False)"
   ]
  },
  {
   "cell_type": "code",
   "execution_count": null,
   "metadata": {},
   "outputs": [],
   "source": [
    "if not energy_pinocongrid_path.exists():\n",
    "    results = []\n",
    "    for congrid_path in tqdm(congrid_input_files):\n",
    "        res = {}\n",
    "        timestamp = congrid_path.stem[14:-4]\n",
    "        model_input, x, y = get_model_input(congrid_path, ret=False)\n",
    "        dx = x[1] - x[0]\n",
    "        dy = y[1] - y[0]\n",
    "        b = mm.get_pred_from_numpy(model_input, ret=False)\n",
    "        e = energy(b)\n",
    "        res[\"obstime\"] = timestamp\n",
    "        res[\"energy\"] = e\n",
    "        res[\"dx\"] = dx\n",
    "        res[\"dy\"] = dy\n",
    "\n",
    "        results.append(res)\n",
    "        df = pd.DataFrame.from_dict(results)\n",
    "        df.to_csv(energy_pinocongrid_path, index=False)"
   ]
  },
  {
   "cell_type": "code",
   "execution_count": null,
   "metadata": {},
   "outputs": [],
   "source": []
  }
 ],
 "metadata": {
  "kernelspec": {
   "display_name": "python3",
   "language": "python",
   "name": "python3"
  }
 },
 "nbformat": 4,
 "nbformat_minor": 2
}
