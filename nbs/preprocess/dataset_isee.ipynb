{
 "cells": [
  {
   "cell_type": "code",
   "execution_count": null,
   "metadata": {},
   "outputs": [],
   "source": [
    "from pathlib import Path\n",
    "from rtmag.process.load_isee import nc_list\n",
    "from rtmag.process.save_data import save_input_label\n",
    "import time"
   ]
  },
  {
   "cell_type": "code",
   "execution_count": null,
   "metadata": {},
   "outputs": [],
   "source": [
    "isee_path = Path(\"U:/isee_nlfff_v1.2\")\n",
    "target_path = Path(\"F:/isee_dataset1\")"
   ]
  },
  {
   "cell_type": "code",
   "execution_count": null,
   "metadata": {},
   "outputs": [],
   "source": [
    "entries = isee_path.iterdir()\n",
    "directories = [entry for entry in entries if entry.is_dir()]\n",
    "len(directories)"
   ]
  },
  {
   "cell_type": "code",
   "execution_count": null,
   "metadata": {},
   "outputs": [],
   "source": [
    "start = time.time()\n",
    "\n",
    "target_path.mkdir(exist_ok=True)\n",
    "\n",
    "for directory in directories:\n",
    "    file_list = nc_list(directory)\n",
    "    res_path = target_path / directory.name\n",
    "    print(f'Number : {len(file_list)}')\n",
    "    print(f'Save   : {res_path}')\n",
    "    save_input_label(file_list, res_path)\n",
    "    break\n",
    "\n",
    "runtime = time.time() - start"
   ]
  },
  {
   "cell_type": "code",
   "execution_count": null,
   "metadata": {},
   "outputs": [],
   "source": [
    "print(f'Runtime: {runtime:.2f} sec')"
   ]
  },
  {
   "cell_type": "code",
   "execution_count": null,
   "metadata": {},
   "outputs": [],
   "source": [
    "import numpy as np"
   ]
  },
  {
   "cell_type": "code",
   "execution_count": null,
   "metadata": {},
   "outputs": [],
   "source": [
    "inputs = np.load(target_path / \"11078/input/input_11078_20100609_000000.npz\")"
   ]
  },
  {
   "cell_type": "code",
   "execution_count": null,
   "metadata": {},
   "outputs": [],
   "source": [
    "list(inputs.keys())"
   ]
  },
  {
   "cell_type": "code",
   "execution_count": null,
   "metadata": {},
   "outputs": [],
   "source": [
    "labels = np.load(target_path / \"11078/label/label_11078_20100609_000000.npz\")"
   ]
  },
  {
   "cell_type": "code",
   "execution_count": null,
   "metadata": {},
   "outputs": [],
   "source": [
    "list(labels.keys())"
   ]
  },
  {
   "cell_type": "code",
   "execution_count": null,
   "metadata": {},
   "outputs": [],
   "source": [
    "inputs2 = np.load(Path(\"F:/isee_dataset\") / \"11078/input/input_11078_20100609_000000.npz\")"
   ]
  },
  {
   "cell_type": "code",
   "execution_count": null,
   "metadata": {},
   "outputs": [],
   "source": [
    "print(np.allclose(inputs['input'], inputs2['input']))\n",
    "print(np.allclose(inputs['dx'], inputs2['dx']))\n",
    "print(np.allclose(inputs['dy'], inputs2['dy']))\n",
    "print(np.allclose(inputs['dz'], inputs2['dz']))"
   ]
  },
  {
   "cell_type": "code",
   "execution_count": null,
   "metadata": {},
   "outputs": [],
   "source": [
    "labels2 = np.load(Path(\"F:/isee_dataset\") / \"11078/label/label_11078_20100609_000000.npz\")"
   ]
  },
  {
   "cell_type": "code",
   "execution_count": null,
   "metadata": {},
   "outputs": [],
   "source": [
    "print(np.allclose(labels['label'], labels2['label']))\n",
    "print(np.allclose(labels['pot'], labels2['pot']))\n",
    "print(np.allclose(labels['x'], labels2['x']))\n",
    "print(np.allclose(labels['y'], labels2['y']))\n",
    "print(np.allclose(labels['z'], labels2['z']))"
   ]
  },
  {
   "cell_type": "code",
   "execution_count": null,
   "metadata": {},
   "outputs": [],
   "source": []
  }
 ],
 "metadata": {
  "kernelspec": {
   "display_name": "python3",
   "language": "python",
   "name": "python3"
  }
 },
 "nbformat": 4,
 "nbformat_minor": 2
}
