{
 "cells": [
  {
   "cell_type": "code",
   "execution_count": 1,
   "metadata": {},
   "outputs": [],
   "source": [
    "from pathlib import Path\n",
    "from rtmag.process.load_isee import nc_list\n",
    "from rtmag.process.save_data import save_input_label\n",
    "import time"
   ]
  },
  {
   "cell_type": "code",
   "execution_count": 2,
   "metadata": {},
   "outputs": [],
   "source": [
    "isee_path = Path(\"U:/isee_nlfff_v1.2\")\n",
    "target_path = Path(\"F:/isee_dataset1\")"
   ]
  },
  {
   "cell_type": "code",
   "execution_count": 4,
   "metadata": {},
   "outputs": [
    {
     "data": {
      "text/plain": [
       "211"
      ]
     },
     "execution_count": 4,
     "metadata": {},
     "output_type": "execute_result"
    }
   ],
   "source": [
    "entries = isee_path.iterdir()\n",
    "directories = [entry for entry in entries if entry.is_dir()]\n",
    "len(directories)"
   ]
  },
  {
   "cell_type": "code",
   "execution_count": 5,
   "metadata": {},
   "outputs": [
    {
     "name": "stdout",
     "output_type": "stream",
     "text": [
      "Number : 1\n",
      "Save   : F:\\isee_dataset1\\11078\n"
     ]
    },
    {
     "name": "stderr",
     "output_type": "stream",
     "text": [
      "100%|██████████| 1/1 [00:00<00:00, 250.03it/s]\n"
     ]
    }
   ],
   "source": [
    "start = time.time()\n",
    "\n",
    "target_path.mkdir(exist_ok=True)\n",
    "\n",
    "for directory in directories:\n",
    "    file_list = nc_list(directory)\n",
    "    res_path = target_path / directory.name\n",
    "    print(f'Number : {len(file_list)}')\n",
    "    print(f'Save   : {res_path}')\n",
    "    save_input_label(file_list, res_path)\n",
    "    break\n",
    "\n",
    "runtime = time.time() - start"
   ]
  },
  {
   "cell_type": "code",
   "execution_count": 11,
   "metadata": {},
   "outputs": [
    {
     "name": "stdout",
     "output_type": "stream",
     "text": [
      "Runtime: 149.09 sec\n"
     ]
    }
   ],
   "source": [
    "print(f'Runtime: {runtime:.2f} sec')"
   ]
  },
  {
   "cell_type": "code",
   "execution_count": 12,
   "metadata": {},
   "outputs": [],
   "source": [
    "import numpy as np"
   ]
  },
  {
   "cell_type": "code",
   "execution_count": 19,
   "metadata": {},
   "outputs": [],
   "source": [
    "inputs = np.load(target_path / \"11078/input/input_11078_20100609_000000.npz\")"
   ]
  },
  {
   "cell_type": "code",
   "execution_count": 22,
   "metadata": {},
   "outputs": [
    {
     "data": {
      "text/plain": [
       "['input', 'dx', 'dy', 'dz']"
      ]
     },
     "execution_count": 22,
     "metadata": {},
     "output_type": "execute_result"
    }
   ],
   "source": [
    "list(inputs.keys())"
   ]
  },
  {
   "cell_type": "code",
   "execution_count": 15,
   "metadata": {},
   "outputs": [],
   "source": [
    "labels = np.load(target_path / \"11078/label/label_11078_20100609_000000.npz\")"
   ]
  },
  {
   "cell_type": "code",
   "execution_count": 23,
   "metadata": {},
   "outputs": [
    {
     "data": {
      "text/plain": [
       "['label', 'pot', 'x', 'y', 'z']"
      ]
     },
     "execution_count": 23,
     "metadata": {},
     "output_type": "execute_result"
    }
   ],
   "source": [
    "list(labels.keys())"
   ]
  },
  {
   "cell_type": "code",
   "execution_count": 25,
   "metadata": {},
   "outputs": [],
   "source": [
    "inputs2 = np.load(Path(\"F:/isee_dataset\") / \"11078/input/input_11078_20100609_000000.npz\")"
   ]
  },
  {
   "cell_type": "code",
   "execution_count": 26,
   "metadata": {},
   "outputs": [
    {
     "name": "stdout",
     "output_type": "stream",
     "text": [
      "True\n",
      "True\n",
      "True\n",
      "True\n"
     ]
    }
   ],
   "source": [
    "print(np.allclose(inputs['input'], inputs2['input']))\n",
    "print(np.allclose(inputs['dx'], inputs2['dx']))\n",
    "print(np.allclose(inputs['dy'], inputs2['dy']))\n",
    "print(np.allclose(inputs['dz'], inputs2['dz']))"
   ]
  },
  {
   "cell_type": "code",
   "execution_count": 29,
   "metadata": {},
   "outputs": [],
   "source": [
    "labels2 = np.load(Path(\"F:/isee_dataset\") / \"11078/label/label_11078_20100609_000000.npz\")"
   ]
  },
  {
   "cell_type": "code",
   "execution_count": 30,
   "metadata": {},
   "outputs": [
    {
     "name": "stdout",
     "output_type": "stream",
     "text": [
      "True\n",
      "True\n",
      "True\n",
      "True\n",
      "True\n"
     ]
    }
   ],
   "source": [
    "print(np.allclose(labels['label'], labels2['label']))\n",
    "print(np.allclose(labels['pot'], labels2['pot']))\n",
    "print(np.allclose(labels['x'], labels2['x']))\n",
    "print(np.allclose(labels['y'], labels2['y']))\n",
    "print(np.allclose(labels['z'], labels2['z']))"
   ]
  },
  {
   "cell_type": "code",
   "execution_count": null,
   "metadata": {},
   "outputs": [],
   "source": []
  }
 ],
 "metadata": {
  "kernelspec": {
   "display_name": "paper",
   "language": "python",
   "name": "python3"
  },
  "language_info": {
   "codemirror_mode": {
    "name": "ipython",
    "version": 3
   },
   "file_extension": ".py",
   "mimetype": "text/x-python",
   "name": "python",
   "nbconvert_exporter": "python",
   "pygments_lexer": "ipython3",
   "version": "3.11.9"
  }
 },
 "nbformat": 4,
 "nbformat_minor": 2
}
