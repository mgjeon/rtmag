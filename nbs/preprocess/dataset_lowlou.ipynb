{
 "cells": [
  {
   "cell_type": "code",
   "execution_count": 1,
   "metadata": {},
   "outputs": [],
   "source": [
    "import numpy as np\n",
    "from rtmag.process.paper.analytical_field import get_analytic_b_field\n",
    "from magplot.base import create_mesh, mag_plotter\n",
    "import pyvista as pv\n",
    "pv.set_jupyter_backend('static')\n",
    "from pathlib import Path\n",
    "\n",
    "import gc\n",
    "from tqdm import tqdm"
   ]
  },
  {
   "cell_type": "code",
   "execution_count": 3,
   "metadata": {},
   "outputs": [],
   "source": [
    "test_path = Path('F:/lowlou2/test/')\n",
    "train_path = Path('F:/lowlou2/train/')\n",
    "train_path_png = train_path / 'png'\n",
    "\n",
    "test_path.mkdir(parents=True, exist_ok=True)\n",
    "train_path.mkdir(parents=True, exist_ok=True)\n",
    "train_path_png.mkdir(parents=True, exist_ok=True)"
   ]
  },
  {
   "cell_type": "code",
   "execution_count": 4,
   "metadata": {},
   "outputs": [],
   "source": [
    "l = 0.3\n",
    "psi = 0.25*np.pi\n",
    "b_test = get_analytic_b_field(l=l, psi=psi)\n",
    "b_test.shape\n",
    "\n",
    "np.savez(test_path / 'case1.npz', b=b_test)\n",
    "\n",
    "bx = b_test[:, :, :, 0]\n",
    "by = b_test[:, :, :, 1]\n",
    "bz = b_test[:, :, :, 2]\n",
    "\n",
    "mesh = create_mesh(bx, by, bz)\n",
    "i_siz = 32\n",
    "j_siz = 32\n",
    "i_res = 8\n",
    "j_res = 8\n",
    "vmin = -200\n",
    "vmax = 200\n",
    "max_time = 10000\n",
    "\n",
    "b_plot = mag_plotter(mesh)\n",
    "b_tube, b_bottom, b_dargs = b_plot.create_mesh(i_siz=i_siz, j_siz=j_siz, \n",
    "                                               i_resolution=i_res, j_resolution=j_res, \n",
    "                                               vmin=vmin, vmax=vmax, \n",
    "                                               max_time=max_time)\n",
    "window_size=(800, 800)\n",
    "zoom = 0.8\n",
    "\n",
    "p = pv.Plotter(off_screen=False, window_size=window_size)\n",
    "p.add_mesh(b_plot.grid.outline())\n",
    "p.add_mesh(b_bottom, cmap='gray', **b_dargs)\n",
    "p.add_mesh(b_tube, lighting=False, color='blue')\n",
    "p.camera.zoom(zoom)\n",
    "p.camera_position = 'xy'\n",
    "p.add_title(f\"|B| = {np.max(np.abs(b_test)):.3f} | l={l:.3f} | p={psi/np.pi:.3f}π\")\n",
    "p.screenshot(test_path / f'case1_{l:.3f}_{psi/np.pi:.3f}.png');"
   ]
  },
  {
   "cell_type": "code",
   "execution_count": 5,
   "metadata": {},
   "outputs": [
    {
     "name": "stderr",
     "output_type": "stream",
     "text": [
      "  0%|          | 5/10000 [00:13<7:30:16,  2.70s/it]\n"
     ]
    },
    {
     "ename": "KeyboardInterrupt",
     "evalue": "",
     "output_type": "error",
     "traceback": [
      "\u001b[1;31m---------------------------------------------------------------------------\u001b[0m",
      "\u001b[1;31mKeyboardInterrupt\u001b[0m                         Traceback (most recent call last)",
      "Cell \u001b[1;32mIn[5], line 48\u001b[0m\n\u001b[0;32m     46\u001b[0m p\u001b[38;5;241m.\u001b[39madd_title(\u001b[38;5;124mf\u001b[39m\u001b[38;5;124m\"\u001b[39m\u001b[38;5;124m|B| = \u001b[39m\u001b[38;5;132;01m{\u001b[39;00mmaxb\u001b[38;5;132;01m:\u001b[39;00m\u001b[38;5;124m.3f\u001b[39m\u001b[38;5;132;01m}\u001b[39;00m\u001b[38;5;124m | l=\u001b[39m\u001b[38;5;132;01m{\u001b[39;00ml\u001b[38;5;132;01m:\u001b[39;00m\u001b[38;5;124m.3f\u001b[39m\u001b[38;5;132;01m}\u001b[39;00m\u001b[38;5;124m | p=\u001b[39m\u001b[38;5;132;01m{\u001b[39;00mpsi\u001b[38;5;241m/\u001b[39mnp\u001b[38;5;241m.\u001b[39mpi\u001b[38;5;132;01m:\u001b[39;00m\u001b[38;5;124m.3f\u001b[39m\u001b[38;5;132;01m}\u001b[39;00m\u001b[38;5;124mπ\u001b[39m\u001b[38;5;124m\"\u001b[39m)\n\u001b[0;32m     47\u001b[0m p\u001b[38;5;241m.\u001b[39mcamera_position \u001b[38;5;241m=\u001b[39m \u001b[38;5;124m'\u001b[39m\u001b[38;5;124mxy\u001b[39m\u001b[38;5;124m'\u001b[39m\n\u001b[1;32m---> 48\u001b[0m \u001b[43mp\u001b[49m\u001b[38;5;241;43m.\u001b[39;49m\u001b[43mscreenshot\u001b[49m\u001b[43m(\u001b[49m\u001b[43mtrain_path_png\u001b[49m\u001b[43m \u001b[49m\u001b[38;5;241;43m/\u001b[39;49m\u001b[38;5;124;43mf\u001b[39;49m\u001b[38;5;124;43m'\u001b[39;49m\u001b[38;5;124;43mb_\u001b[39;49m\u001b[38;5;132;43;01m{\u001b[39;49;00m\u001b[43ml\u001b[49m\u001b[38;5;132;43;01m:\u001b[39;49;00m\u001b[38;5;124;43m.3f\u001b[39;49m\u001b[38;5;132;43;01m}\u001b[39;49;00m\u001b[38;5;124;43m_\u001b[39;49m\u001b[38;5;132;43;01m{\u001b[39;49;00m\u001b[43mpsi\u001b[49m\u001b[38;5;241;43m/\u001b[39;49m\u001b[43mnp\u001b[49m\u001b[38;5;241;43m.\u001b[39;49m\u001b[43mpi\u001b[49m\u001b[38;5;132;43;01m:\u001b[39;49;00m\u001b[38;5;124;43m.3f\u001b[39;49m\u001b[38;5;132;43;01m}\u001b[39;49;00m\u001b[38;5;124;43m.png\u001b[39;49m\u001b[38;5;124;43m'\u001b[39;49m\u001b[43m)\u001b[49m\n\u001b[0;32m     49\u001b[0m p\u001b[38;5;241m.\u001b[39mclose()\n\u001b[0;32m     51\u001b[0m \u001b[38;5;28;01mdel\u001b[39;00m l\n",
      "File \u001b[1;32mc:\\Users\\user\\miniconda3\\envs\\paper\\Lib\\site-packages\\pyvista\\plotting\\plotter.py:5882\u001b[0m, in \u001b[0;36mBasePlotter.screenshot\u001b[1;34m(self, filename, transparent_background, return_img, window_size, scale)\u001b[0m\n\u001b[0;32m   5879\u001b[0m     \u001b[38;5;28mself\u001b[39m\u001b[38;5;241m.\u001b[39m_on_first_render_request()\n\u001b[0;32m   5880\u001b[0m     \u001b[38;5;28mself\u001b[39m\u001b[38;5;241m.\u001b[39mrender()\n\u001b[1;32m-> 5882\u001b[0m \u001b[38;5;28;01mwith\u001b[39;00m \u001b[38;5;28;43mself\u001b[39;49m\u001b[38;5;241;43m.\u001b[39;49m\u001b[43mimage_scale_context\u001b[49m\u001b[43m(\u001b[49m\u001b[43mscale\u001b[49m\u001b[43m)\u001b[49m:\n\u001b[0;32m   5883\u001b[0m     \u001b[38;5;28mself\u001b[39m\u001b[38;5;241m.\u001b[39m_make_render_window_current()\n\u001b[0;32m   5884\u001b[0m     \u001b[38;5;28;01mreturn\u001b[39;00m \u001b[38;5;28mself\u001b[39m\u001b[38;5;241m.\u001b[39m_save_image(\u001b[38;5;28mself\u001b[39m\u001b[38;5;241m.\u001b[39mimage, filename, return_img)\n",
      "File \u001b[1;32mc:\\Users\\user\\miniconda3\\envs\\paper\\Lib\\contextlib.py:299\u001b[0m, in \u001b[0;36mcontextmanager.<locals>.helper\u001b[1;34m(*args, **kwds)\u001b[0m\n\u001b[0;32m    272\u001b[0m \u001b[38;5;28;01mdef\u001b[39;00m \u001b[38;5;21mcontextmanager\u001b[39m(func):\n\u001b[0;32m    273\u001b[0m \u001b[38;5;250m    \u001b[39m\u001b[38;5;124;03m\"\"\"@contextmanager decorator.\u001b[39;00m\n\u001b[0;32m    274\u001b[0m \n\u001b[0;32m    275\u001b[0m \u001b[38;5;124;03m    Typical usage:\u001b[39;00m\n\u001b[1;32m   (...)\u001b[0m\n\u001b[0;32m    297\u001b[0m \u001b[38;5;124;03m            <cleanup>\u001b[39;00m\n\u001b[0;32m    298\u001b[0m \u001b[38;5;124;03m    \"\"\"\u001b[39;00m\n\u001b[1;32m--> 299\u001b[0m     \u001b[38;5;129m@wraps\u001b[39m(func)\n\u001b[0;32m    300\u001b[0m     \u001b[38;5;28;01mdef\u001b[39;00m \u001b[38;5;21mhelper\u001b[39m(\u001b[38;5;241m*\u001b[39margs, \u001b[38;5;241m*\u001b[39m\u001b[38;5;241m*\u001b[39mkwds):\n\u001b[0;32m    301\u001b[0m         \u001b[38;5;28;01mreturn\u001b[39;00m _GeneratorContextManager(func, args, kwds)\n\u001b[0;32m    302\u001b[0m     \u001b[38;5;28;01mreturn\u001b[39;00m helper\n",
      "\u001b[1;31mKeyboardInterrupt\u001b[0m: "
     ]
    }
   ],
   "source": [
    "for _ in tqdm(range(10000)):\n",
    "    # l = 0.1 + 0.3*np.random.rand(1)\n",
    "    # l = l[0]\n",
    "    # psi = np.random.rand(1) * np.pi\n",
    "    # psi = psi[0]\n",
    "\n",
    "    # l_check = ((l > 0.18) and (l < 0.28)) or ((l > 0.32) and (l < 0.42))\n",
    "    # psi_check = ((psi > 0*np.pi) and (psi < 0.2*np.pi)) or (psi > 0.3*np.pi)\n",
    "\n",
    "    l = np.random.uniform(0.15, 0.25) if np.random.rand() > 0.5 else np.random.uniform(0.35, 0.45)\n",
    "    psi = np.random.uniform(0, 0.2*np.pi) if np.random.rand() > 0.5 else np.random.uniform(0.3*np.pi, np.pi)\n",
    "\n",
    "    b_train = get_analytic_b_field(l=l, psi=psi)\n",
    "    np.savez(train_path / f'b_{l:.3f}_{psi/np.pi:.3f}.npz', b=b_train)\n",
    "\n",
    "    # print(np.max(np.abs(b_train)))\n",
    "\n",
    "    bx = b_train[:, :, :, 0]\n",
    "    by = b_train[:, :, :, 1]\n",
    "    bz = b_train[:, :, :, 2]\n",
    "\n",
    "    maxb = np.max(np.abs(b_train))\n",
    "\n",
    "    mesh = create_mesh(bx, by, bz)\n",
    "    i_siz = 32\n",
    "    j_siz = 32\n",
    "    i_res = 8\n",
    "    j_res = 8\n",
    "    vmin = -int(maxb)/2\n",
    "    vmax = int(maxb)/2\n",
    "    max_time = 10000\n",
    "\n",
    "    b_plot = mag_plotter(mesh)\n",
    "    b_tube, b_bottom, b_dargs = b_plot.create_mesh(i_siz=i_siz, j_siz=j_siz, \n",
    "                                                i_resolution=i_res, j_resolution=j_res, \n",
    "                                                vmin=vmin, vmax=vmax, \n",
    "                                                max_time=max_time)\n",
    "    window_size=(800, 800)\n",
    "    zoom = 0.8\n",
    "\n",
    "    p = pv.Plotter(off_screen=False, window_size=window_size)\n",
    "    p.add_mesh(b_plot.grid.outline())\n",
    "    p.add_mesh(b_bottom, cmap='gray', **b_dargs)\n",
    "    p.add_mesh(b_tube, lighting=False, color='blue')\n",
    "    p.camera.zoom(zoom)\n",
    "    p.add_title(f\"|B| = {maxb:.3f} | l={l:.3f} | p={psi/np.pi:.3f}π\")\n",
    "    p.camera_position = 'xy'\n",
    "    p.screenshot(train_path_png /f'b_{l:.3f}_{psi/np.pi:.3f}.png')\n",
    "    p.close()\n",
    "\n",
    "    del l\n",
    "    del psi\n",
    "    del b_train\n",
    "    del bx\n",
    "    del by\n",
    "    del bz\n",
    "    del maxb\n",
    "    del mesh\n",
    "    del i_siz\n",
    "    del j_siz\n",
    "    del i_res\n",
    "    del j_res\n",
    "    del vmin\n",
    "    del vmax\n",
    "    del max_time\n",
    "    del b_plot\n",
    "    del b_tube\n",
    "    del b_bottom\n",
    "    del b_dargs\n",
    "    del window_size\n",
    "    del zoom\n",
    "    del p\n",
    "\n",
    "    gc.collect()"
   ]
  },
  {
   "cell_type": "code",
   "execution_count": null,
   "metadata": {},
   "outputs": [],
   "source": [
    "# manually select 5000 -> train_5000\n",
    "# manually select 1000 -> val_1000"
   ]
  }
 ],
 "metadata": {
  "kernelspec": {
   "display_name": "paper",
   "language": "python",
   "name": "python3"
  },
  "language_info": {
   "codemirror_mode": {
    "name": "ipython",
    "version": 3
   },
   "file_extension": ".py",
   "mimetype": "text/x-python",
   "name": "python",
   "nbconvert_exporter": "python",
   "pygments_lexer": "ipython3",
   "version": "3.11.9"
  }
 },
 "nbformat": 4,
 "nbformat_minor": 2
}
