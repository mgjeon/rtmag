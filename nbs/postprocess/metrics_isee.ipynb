{
 "cells": [
  {
   "cell_type": "code",
   "execution_count": 1,
   "metadata": {},
   "outputs": [],
   "source": [
    "import pandas as pd"
   ]
  },
  {
   "cell_type": "code",
   "execution_count": 2,
   "metadata": {},
   "outputs": [],
   "source": [
    "def table(df):\n",
    "    print(len(df))\n",
    "    df['identifier'] = df['file'].str.extract(r'label_(\\d+)_')\n",
    "    numerical_cols = df.select_dtypes(include=['number'])\n",
    "    df = df[['identifier']].join(numerical_cols).groupby('identifier').mean().reset_index()\n",
    "    c_vec_mean = df['C_vec'].mean()\n",
    "    c_cs_mean = df['C_cs'].mean()\n",
    "    e_n_mean = df[\"E_n'\"].mean()\n",
    "    e_m_mean = df[\"E_m'\"].mean()\n",
    "    eps_mean = df[\"eps\"].mean()\n",
    "    sigmaJ_b_mean = df[\"sigmaJ_b\"].mean()\n",
    "    div_b_mean = df[\"div_b\"].mean()\n",
    "    sigmaJ_B_mean = df[\"sigmaJ_B\"].mean()\n",
    "    div_B_mean = df[\"div_B\"].mean()\n",
    "\n",
    "    print(f\"avg C_vec     : {c_vec_mean:.2f}\")\n",
    "    print(f\"avg C_cs      : {c_cs_mean:.2f}\")\n",
    "    print(f\"avg E_n_prime : {e_n_mean:.2f}\")\n",
    "    print(f\"avg E_m_prime : {e_m_mean:.2f}\")\n",
    "    print(f\"avg eps       : {eps_mean:.2f}\")\n",
    "\n",
    "    print(f\"avg sigmaJ_b  : {sigmaJ_b_mean:.4f}\")\n",
    "    print(f\"avg div_b     : {div_b_mean:.4f}\")\n",
    "\n",
    "    print(f\"avg sigmaJ_B  : {sigmaJ_B_mean:.4f}\")\n",
    "    print(f\"avg div_B     : {div_B_mean:.4f}\")\n",
    "    print()\n",
    "    return df"
   ]
  },
  {
   "cell_type": "markdown",
   "metadata": {},
   "source": [
    "# Potential"
   ]
  },
  {
   "cell_type": "code",
   "execution_count": 3,
   "metadata": {},
   "outputs": [
    {
     "name": "stdout",
     "output_type": "stream",
     "text": [
      "49\n",
      "avg C_vec     : 0.92\n",
      "avg C_cs      : 0.75\n",
      "avg E_n_prime : 0.53\n",
      "avg E_m_prime : 0.35\n",
      "avg eps       : 0.80\n",
      "avg sigmaJ_b  : 0.8012\n",
      "avg div_b     : 0.0007\n",
      "avg sigmaJ_B  : 0.8437\n",
      "avg div_B     : 0.0039\n",
      "\n"
     ]
    }
   ],
   "source": [
    "df = pd.read_csv('X:/jeon_mg/test/metrics_all_pot_val/metric_test_pot.csv')\n",
    "table(df);"
   ]
  },
  {
   "cell_type": "code",
   "execution_count": 4,
   "metadata": {},
   "outputs": [
    {
     "name": "stdout",
     "output_type": "stream",
     "text": [
      "483\n",
      "avg C_vec     : 0.92\n",
      "avg C_cs      : 0.77\n",
      "avg E_n_prime : 0.53\n",
      "avg E_m_prime : 0.33\n",
      "avg eps       : 0.81\n",
      "avg sigmaJ_b  : 0.8008\n",
      "avg div_b     : 0.0006\n",
      "avg sigmaJ_B  : 0.8292\n",
      "avg div_B     : 0.0043\n",
      "\n"
     ]
    }
   ],
   "source": [
    "df = pd.read_csv('X:/jeon_mg/test/metrics_all_pot/metric_test_pot.csv')\n",
    "table(df);"
   ]
  },
  {
   "cell_type": "markdown",
   "metadata": {},
   "source": [
    "# Potential + Optimization"
   ]
  },
  {
   "cell_type": "code",
   "execution_count": 5,
   "metadata": {},
   "outputs": [
    {
     "name": "stdout",
     "output_type": "stream",
     "text": [
      "49\n",
      "avg C_vec     : 0.94\n",
      "avg C_cs      : 0.76\n",
      "avg E_n_prime : 0.55\n",
      "avg E_m_prime : 0.35\n",
      "avg eps       : 0.83\n",
      "avg sigmaJ_b  : 0.4293\n",
      "avg div_b     : 0.0046\n",
      "avg sigmaJ_B  : 0.8437\n",
      "avg div_B     : 0.0039\n",
      "\n"
     ]
    }
   ],
   "source": [
    "df = pd.read_csv('X:/jeon_mg/test/metrics_all_optpot_val_2/metric_test_optpot.csv')\n",
    "table(df);"
   ]
  },
  {
   "cell_type": "code",
   "execution_count": 6,
   "metadata": {},
   "outputs": [
    {
     "name": "stdout",
     "output_type": "stream",
     "text": [
      "483\n",
      "avg C_vec     : 0.94\n",
      "avg C_cs      : 0.77\n",
      "avg E_n_prime : 0.54\n",
      "avg E_m_prime : 0.33\n",
      "avg eps       : 0.84\n",
      "avg sigmaJ_b  : 0.4314\n",
      "avg div_b     : 0.0044\n",
      "avg sigmaJ_B  : 0.8292\n",
      "avg div_B     : 0.0043\n",
      "\n"
     ]
    }
   ],
   "source": [
    "df = pd.read_csv('X:/jeon_mg/test/metrics_all_optpot_2/metric_test_optpot.csv')\n",
    "table(df);"
   ]
  },
  {
   "cell_type": "markdown",
   "metadata": {},
   "source": [
    "# AI-generated"
   ]
  },
  {
   "cell_type": "code",
   "execution_count": 7,
   "metadata": {},
   "outputs": [
    {
     "name": "stdout",
     "output_type": "stream",
     "text": [
      "49\n",
      "avg C_vec     : 0.96\n",
      "avg C_cs      : 0.95\n",
      "avg E_n_prime : 0.74\n",
      "avg E_m_prime : 0.67\n",
      "avg eps       : 0.91\n",
      "avg sigmaJ_b  : 0.8500\n",
      "avg div_b     : 0.0318\n",
      "avg sigmaJ_B  : 0.8437\n",
      "avg div_B     : 0.0039\n",
      "\n"
     ]
    }
   ],
   "source": [
    "df = pd.read_csv('metric_val.csv')\n",
    "table(df);"
   ]
  },
  {
   "cell_type": "code",
   "execution_count": 8,
   "metadata": {},
   "outputs": [
    {
     "name": "stdout",
     "output_type": "stream",
     "text": [
      "483\n",
      "avg C_vec     : 0.96\n",
      "avg C_cs      : 0.94\n",
      "avg E_n_prime : 0.70\n",
      "avg E_m_prime : 0.58\n",
      "avg eps       : 0.93\n",
      "avg sigmaJ_b  : 0.8452\n",
      "avg div_b     : 0.0317\n",
      "avg sigmaJ_B  : 0.8292\n",
      "avg div_B     : 0.0043\n",
      "\n"
     ]
    }
   ],
   "source": [
    "df = pd.read_csv('metric_test.csv')\n",
    "table(df);"
   ]
  },
  {
   "cell_type": "markdown",
   "metadata": {},
   "source": [
    "# AI + Optimization"
   ]
  },
  {
   "cell_type": "code",
   "execution_count": 9,
   "metadata": {},
   "outputs": [
    {
     "name": "stdout",
     "output_type": "stream",
     "text": [
      "49\n",
      "avg C_vec     : 0.97\n",
      "avg C_cs      : 0.95\n",
      "avg E_n_prime : 0.75\n",
      "avg E_m_prime : 0.67\n",
      "avg eps       : 0.95\n",
      "avg sigmaJ_b  : 0.4614\n",
      "avg div_b     : 0.0090\n",
      "avg sigmaJ_B  : 0.8437\n",
      "avg div_B     : 0.0039\n",
      "\n"
     ]
    }
   ],
   "source": [
    "df = pd.read_csv('metric_val_opt.csv')\n",
    "table(df);"
   ]
  },
  {
   "cell_type": "code",
   "execution_count": 10,
   "metadata": {},
   "outputs": [
    {
     "name": "stdout",
     "output_type": "stream",
     "text": [
      "483\n",
      "avg C_vec     : 0.97\n",
      "avg C_cs      : 0.94\n",
      "avg E_n_prime : 0.72\n",
      "avg E_m_prime : 0.58\n",
      "avg eps       : 0.96\n",
      "avg sigmaJ_b  : 0.4635\n",
      "avg div_b     : 0.0087\n",
      "avg sigmaJ_B  : 0.8292\n",
      "avg div_B     : 0.0043\n",
      "\n"
     ]
    }
   ],
   "source": [
    "df = pd.read_csv('metric_test_opt.csv')\n",
    "table(df);"
   ]
  },
  {
   "cell_type": "code",
   "execution_count": null,
   "metadata": {},
   "outputs": [],
   "source": []
  }
 ],
 "metadata": {
  "kernelspec": {
   "display_name": "paper",
   "language": "python",
   "name": "python3"
  },
  "language_info": {
   "codemirror_mode": {
    "name": "ipython",
    "version": 3
   },
   "file_extension": ".py",
   "mimetype": "text/x-python",
   "name": "python",
   "nbconvert_exporter": "python",
   "pygments_lexer": "ipython3",
   "version": "3.11.9"
  }
 },
 "nbformat": 4,
 "nbformat_minor": 2
}
