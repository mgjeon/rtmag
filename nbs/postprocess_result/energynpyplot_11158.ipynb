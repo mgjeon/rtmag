{
 "cells": [
  {
   "cell_type": "code",
   "execution_count": null,
   "metadata": {},
   "outputs": [],
   "source": [
    "energy_isee_path = \"D:/data/metric/series/11158/energy_isee.csv\"\n",
    "\n",
    "energy_pot_path = \"D:/data/metric_npy/series/11158/energy_potential.csv\"\n",
    "energy_pot_opt_path = \"D:/data/metric_npy/series/11158/energy_potential_opt.csv\"\n",
    "energy_pino_path = \"D:/data/metric_npy/series/11158/energy_pino.csv\"\n",
    "energy_pino_opt_path = \"D:/data/metric_npy/series/11158/energy_pino_opt.csv\"\n",
    "\n",
    "energy_lambda_01 = \"D:/data/nf2/paper-csv/res_lambda_01.csv\"\n",
    "energy_w1 = \"D:/data/nf2/paper-csv/res_w1.csv\""
   ]
  },
  {
   "cell_type": "code",
   "execution_count": null,
   "metadata": {},
   "outputs": [],
   "source": [
    "import pandas as pd\n",
    "import matplotlib.pyplot as plt\n",
    "import matplotlib.ticker as ticker\n",
    "import matplotlib.dates as mdates"
   ]
  },
  {
   "cell_type": "code",
   "execution_count": null,
   "metadata": {},
   "outputs": [],
   "source": [
    "df_isee = pd.read_csv(energy_isee_path)\n",
    "df_isee.head()"
   ]
  },
  {
   "cell_type": "code",
   "execution_count": null,
   "metadata": {},
   "outputs": [],
   "source": [
    "df_pot = pd.read_csv(energy_pot_path)\n",
    "df_pot.head()"
   ]
  },
  {
   "cell_type": "code",
   "execution_count": null,
   "metadata": {},
   "outputs": [],
   "source": [
    "df_pot_opt = pd.read_csv(energy_pot_opt_path)\n",
    "df_pot_opt.head()"
   ]
  },
  {
   "cell_type": "code",
   "execution_count": null,
   "metadata": {},
   "outputs": [],
   "source": [
    "df_pino = pd.read_csv(energy_pino_path)\n",
    "df_pino.head()"
   ]
  },
  {
   "cell_type": "code",
   "execution_count": null,
   "metadata": {},
   "outputs": [],
   "source": [
    "df_pino_opt = pd.read_csv(energy_pino_opt_path)\n",
    "df_pino_opt.head()"
   ]
  },
  {
   "cell_type": "code",
   "execution_count": null,
   "metadata": {},
   "outputs": [],
   "source": [
    "df_lambda_01 = pd.read_csv(energy_lambda_01)\n",
    "df_lambda_01.head()"
   ]
  },
  {
   "cell_type": "code",
   "execution_count": null,
   "metadata": {},
   "outputs": [],
   "source": [
    "df_w1 = pd.read_csv(energy_w1)\n",
    "df_w1.head()"
   ]
  },
  {
   "cell_type": "code",
   "execution_count": null,
   "metadata": {},
   "outputs": [],
   "source": [
    "dx = df_isee[\"dx\"][0]\n",
    "dy = df_isee[\"dy\"][0]\n",
    "dz = dy\n",
    "\n",
    "dV = dx * dy * dz  # Mm^3\n",
    "dV *= 1e-9  # 33 erg\n",
    "dV"
   ]
  },
  {
   "cell_type": "code",
   "execution_count": null,
   "metadata": {},
   "outputs": [],
   "source": [
    "plt.rcParams['font.size'] = 15\n",
    "\n",
    "obstime_isee = df_isee['obstime'].apply(lambda x: pd.to_datetime(x, format=\"%Y%m%d_%H%M%S\"))\n",
    "energy_isee = df_isee['energy'] * dV\n",
    "pot_isee = df_isee['energy_pot'] * dV \n",
    "\n",
    "obstime_pot = df_pot['obstime'].apply(lambda x: pd.to_datetime(x, format=\"%Y%m%d_%H%M%S\"))\n",
    "energy_pot = df_pot['energy'] * dV\n",
    "\n",
    "obstime_pot_opt = df_pot_opt['obstime'].apply(lambda x: pd.to_datetime(x, format=\"%Y%m%d_%H%M%S\"))\n",
    "energy_pot_opt = df_pot_opt['energy'] * dV\n",
    "\n",
    "obstime_pino = df_pino['obstime'].apply(lambda x: pd.to_datetime(x, format=\"%Y%m%d_%H%M%S\"))\n",
    "energy_pino = df_pino['energy'] * dV\n",
    "\n",
    "obstime_pino_opt = df_pino_opt['obstime'].apply(lambda x: pd.to_datetime(x, format=\"%Y%m%d_%H%M%S\"))\n",
    "energy_pino_opt = df_pino_opt['energy'] * dV\n",
    "\n",
    "obstime_lambda_01 = df_lambda_01['obstime'].apply(lambda x: pd.to_datetime(x, format=\"%Y-%m-%d %H:%M:%S\"))\n",
    "energy_lambda_01 = df_lambda_01['pred_E_1e33']\n",
    "\n",
    "obstime_w1 = df_w1['obstime'].apply(lambda x: pd.to_datetime(x, format=\"%Y-%m-%d %H:%M:%S\"))\n",
    "energy_w1 = df_w1['pred_E_1e33']\n",
    "\n",
    "figsize = (12, 6)\n",
    "xlocator = mdates.HourLocator(interval=24)\n",
    "xformatter = mdates.DateFormatter('%b-%d %H:%M')\n",
    "ylocator = 0.2\n",
    "\n",
    "fig, ax = plt.subplots(figsize=figsize)\n",
    "ax = plt.gca()\n",
    "ax.plot(obstime_isee, energy_isee, label='Target', color='red', linewidth=2)\n",
    "ax.plot(obstime_isee, pot_isee, label='Potential', color='black', linestyle='--')\n",
    "ax.plot(obstime_pot, energy_pot, label='Pot (Green)', color='blue', linestyle=':')\n",
    "ax.plot(obstime_pot_opt, energy_pot_opt, label='Opt (Pot)', color='blue', linestyle='-')\n",
    "ax.plot(obstime_pino, energy_pino, label='PINO', color='green', linestyle=':')\n",
    "ax.plot(obstime_pino_opt, energy_pino_opt, label='Opt (PINO)', color='green', linestyle='-')\n",
    "ax.plot(obstime_w1, energy_w1, label='Optimization method', color='black', linestyle=':')\n",
    "ax.plot(obstime_lambda_01, energy_lambda_01, label='PINN method', color='green', linestyle='--')\n",
    "\n",
    "ax.set_ylabel('Energy\\n[$10^{33}$ erg]')\n",
    "ax.set_xlabel('2011 Feburary', labelpad=20.0)\n",
    "\n",
    "ax.set_ylim([0.0, 1.4])\n",
    "# ax.set_xlim([obstime_lambda_01.iloc[0], obstime_lambda_01.iloc[-1]]) \n",
    "\n",
    "ax.xaxis.set_major_locator(xlocator)\n",
    "ax.xaxis.set_major_formatter(xformatter)\n",
    "ax.yaxis.set_major_locator(ticker.MultipleLocator(ylocator))\n",
    "fig.autofmt_xdate()\n",
    "\n",
    "plt.legend(loc='lower right')\n",
    "plt.title(\"Magnetic energy of AR 11158\")\n",
    "plt.tight_layout()\n",
    "# plt.savefig('11158.png', dpi=300)"
   ]
  },
  {
   "cell_type": "code",
   "execution_count": null,
   "metadata": {},
   "outputs": [],
   "source": [
    "plt.rcParams['font.size'] = 15\n",
    "\n",
    "obstime_isee = df_isee['obstime'].apply(lambda x: pd.to_datetime(x, format=\"%Y%m%d_%H%M%S\"))\n",
    "energy_isee = df_isee['energy'] * dV\n",
    "pot_isee = df_isee['energy_pot'] * dV \n",
    "free_isee = energy_isee - pot_isee\n",
    "\n",
    "obstime_pot = df_pot['obstime'].apply(lambda x: pd.to_datetime(x, format=\"%Y%m%d_%H%M%S\"))\n",
    "energy_pot = df_pot['energy'] * dV\n",
    "free_pot = energy_isee - energy_pot\n",
    "\n",
    "obstime_pot_opt = df_pot_opt['obstime'].apply(lambda x: pd.to_datetime(x, format=\"%Y%m%d_%H%M%S\"))\n",
    "energy_pot_opt = df_pot_opt['energy'] * dV\n",
    "free_pot_opt = energy_pot_opt - energy_pot\n",
    "\n",
    "obstime_pino = df_pino['obstime'].apply(lambda x: pd.to_datetime(x, format=\"%Y%m%d_%H%M%S\"))\n",
    "energy_pino = df_pino['energy'] * dV\n",
    "free_pino_isee = energy_pino - pot_isee\n",
    "free_pino = energy_pino - energy_pot\n",
    "\n",
    "obstime_pino_opt = df_pino_opt['obstime'].apply(lambda x: pd.to_datetime(x, format=\"%Y%m%d_%H%M%S\"))\n",
    "energy_pino_opt = df_pino_opt['energy'] * dV\n",
    "free_pino_opt_isee = energy_pino_opt - pot_isee\n",
    "free_pino_opt = energy_pino_opt - energy_pot\n",
    "\n",
    "obstime_lambda_01 = df_lambda_01['obstime'].apply(lambda x: pd.to_datetime(x, format=\"%Y-%m-%d %H:%M:%S\"))\n",
    "energy_lambda_01 = df_lambda_01['pred_E_1e33']\n",
    "energy_pot_lambda_01 = df_lambda_01['pot_E_1e33']\n",
    "free_lambda_01 = energy_lambda_01 - energy_pot_lambda_01\n",
    "\n",
    "obstime_w1 = df_w1['obstime'].apply(lambda x: pd.to_datetime(x, format=\"%Y-%m-%d %H:%M:%S\"))\n",
    "energy_w1 = df_w1['pred_E_1e33']\n",
    "energy_pot_w1 = df_w1['pot_E_1e33']\n",
    "free_w1 = energy_w1 - energy_pot_w1\n",
    "\n",
    "\n",
    "figsize = (12, 12)\n",
    "xlocator = mdates.HourLocator(interval=24)\n",
    "xformatter = mdates.DateFormatter('%b-%d %H:%M')\n",
    "ylocator = 0.2\n",
    "\n",
    "fig, ax = plt.subplots(figsize=figsize)\n",
    "ax = plt.gca()\n",
    "ax.plot(obstime_isee, free_isee, label='Target', color='red', linewidth=2)\n",
    "# ax.plot(obstime_pot, free_pot, label='ISEE - Pot(Green)', color='blue', linestyle=':')\n",
    "# ax.plot(obstime_pot_opt, free_pot_opt, label='Opt(Pot) - Pot(Green)', color='magenta', linestyle='-')\n",
    "ax.plot(obstime_pino, free_pino_isee, label='PINO - ISEE POT', color='green', linestyle=':')\n",
    "ax.plot(obstime_pino, free_pino, label='PINO - Pot(Green)', color='pink', linestyle='-')\n",
    "ax.plot(obstime_pino_opt, free_pino_opt_isee, label='Opt(PINO) - ISEE POT', color='magenta', linestyle=':')\n",
    "# ax.plot(obstime_pino_opt, free_pino_opt, label='Opt(PINO) - Pot(Green)', color='orange', linestyle='-')\n",
    "ax.plot(obstime_lambda_01, free_lambda_01, label='PINN method', color='green', linestyle='--')\n",
    "ax.plot(obstime_w1, free_w1, label='Optimization method', color='black', linestyle=':')\n",
    "\n",
    "ax.set_ylabel('Free Energy\\n[$10^{33}$ erg]')\n",
    "ax.set_xlabel('2011 Feburary', labelpad=20.0)\n",
    "\n",
    "# ax.set_ylim([0.0, 1.4])\n",
    "ax.set_xlim([obstime_isee.iloc[0], obstime_isee.iloc[-1]]) \n",
    "\n",
    "ax.xaxis.set_major_locator(xlocator)\n",
    "ax.xaxis.set_major_formatter(xformatter)\n",
    "ax.yaxis.set_major_locator(ticker.MultipleLocator(ylocator))\n",
    "fig.autofmt_xdate()\n",
    "\n",
    "plt.legend(loc='lower right')\n",
    "plt.title(\"Magnetic free energy of AR 11158\")\n",
    "plt.tight_layout()\n",
    "# plt.savefig('11158.png', dpi=300)"
   ]
  },
  {
   "cell_type": "code",
   "execution_count": null,
   "metadata": {},
   "outputs": [],
   "source": []
  }
 ],
 "metadata": {
  "kernelspec": {
   "display_name": "python3",
   "language": "python",
   "name": "python3"
  }
 },
 "nbformat": 4,
 "nbformat_minor": 2
}
