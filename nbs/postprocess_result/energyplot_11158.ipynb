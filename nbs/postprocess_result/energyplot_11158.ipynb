{
 "cells": [
  {
   "cell_type": "code",
   "execution_count": null,
   "metadata": {},
   "outputs": [],
   "source": [
    "energy_isee_path = \"D:/data/metric/series/11158/energy_isee.csv\"\n",
    "energy_pinocongrid_path = \"D:/data/metric/series/11158/energy_pinocongrid.csv\"\n",
    "\n",
    "energy_lambda_01 = \"D:/data/nf2/paper-csv/res_lambda_01.csv\"\n",
    "energy_w1 = \"D:/data/nf2/paper-csv/res_w1.csv\""
   ]
  },
  {
   "cell_type": "code",
   "execution_count": null,
   "metadata": {},
   "outputs": [],
   "source": [
    "import pandas as pd\n",
    "import matplotlib.pyplot as plt\n",
    "import matplotlib.ticker as ticker\n",
    "import matplotlib.dates as mdates"
   ]
  },
  {
   "cell_type": "code",
   "execution_count": null,
   "metadata": {},
   "outputs": [],
   "source": [
    "df_isee = pd.read_csv(energy_isee_path)\n",
    "df_isee.head()"
   ]
  },
  {
   "cell_type": "code",
   "execution_count": null,
   "metadata": {},
   "outputs": [],
   "source": [
    "df_pinocongrid = pd.read_csv(energy_pinocongrid_path)\n",
    "df_pinocongrid.head()"
   ]
  },
  {
   "cell_type": "code",
   "execution_count": null,
   "metadata": {},
   "outputs": [],
   "source": [
    "df_lambda_01 = pd.read_csv(energy_lambda_01)\n",
    "df_lambda_01.head()"
   ]
  },
  {
   "cell_type": "code",
   "execution_count": null,
   "metadata": {},
   "outputs": [],
   "source": [
    "df_w1 = pd.read_csv(energy_w1)\n",
    "df_w1.head()"
   ]
  },
  {
   "cell_type": "code",
   "execution_count": null,
   "metadata": {},
   "outputs": [],
   "source": [
    "dx = df_isee[\"dx\"][0]\n",
    "dy = df_isee[\"dy\"][0]\n",
    "dz = dy\n",
    "\n",
    "dV = dx * dy * dz  # Mm^3\n",
    "dV *= 1e-9  # 33 erg\n",
    "dV"
   ]
  },
  {
   "cell_type": "code",
   "execution_count": null,
   "metadata": {},
   "outputs": [],
   "source": [
    "plt.rcParams['font.size'] = 15\n",
    "\n",
    "obstime_isee = df_isee['obstime'].apply(lambda x: pd.to_datetime(x, format=\"%Y%m%d_%H%M%S\"))\n",
    "energy_isee = df_isee['energy'] * dV\n",
    "pot_isee = df_isee['energy_pot'] * dV \n",
    "\n",
    "obstime_pinocongrid = df_pinocongrid['obstime'].apply(lambda x: pd.to_datetime(x, format=\"%Y%m%d_%H%M%S\"))\n",
    "energy_pinocongrid = df_pinocongrid['energy'] * dV\n",
    "\n",
    "obstime_lambda_01 = df_lambda_01['obstime'].apply(lambda x: pd.to_datetime(x, format=\"%Y-%m-%d %H:%M:%S\"))\n",
    "energy_lambda_01 = df_lambda_01['pred_E_1e33']\n",
    "\n",
    "obstime_w1 = df_w1['obstime'].apply(lambda x: pd.to_datetime(x, format=\"%Y-%m-%d %H:%M:%S\"))\n",
    "energy_w1 = df_w1['pred_E_1e33']\n",
    "\n",
    "figsize = (12, 6)\n",
    "xlocator = mdates.HourLocator(interval=24)\n",
    "xformatter = mdates.DateFormatter('%b-%d %H:%M')\n",
    "ylocator = 0.2\n",
    "\n",
    "fig, ax = plt.subplots(figsize=figsize)\n",
    "ax = plt.gca()\n",
    "ax.plot(obstime_isee, energy_isee, label='Target', color='red', linewidth=2)\n",
    "ax.plot(obstime_pinocongrid, energy_pinocongrid, label='AI-generated', color='blue', linewidth=2)\n",
    "ax.plot(obstime_w1, energy_w1, label='Optimization method', color='black', linestyle=':')\n",
    "ax.plot(obstime_lambda_01, energy_lambda_01, label='PINN method', color='green', linestyle='--')\n",
    "\n",
    "\n",
    "ax.set_ylabel('Energy\\n[$10^{33}$ erg]')\n",
    "ax.set_xlabel('2011 Feburary', labelpad=20.0)\n",
    "\n",
    "ax.set_ylim([0.0, 1.4])\n",
    "ax.set_xlim([obstime_lambda_01.iloc[0], obstime_lambda_01.iloc[-1]]) \n",
    "\n",
    "ax.xaxis.set_major_locator(xlocator)\n",
    "ax.xaxis.set_major_formatter(xformatter)\n",
    "ax.yaxis.set_major_locator(ticker.MultipleLocator(ylocator))\n",
    "fig.autofmt_xdate()\n",
    "\n",
    "plt.legend(loc='lower right')\n",
    "plt.title(\"Magnetic energy of AR 11158\")\n",
    "plt.tight_layout()\n",
    "plt.savefig('11158.png', dpi=300)"
   ]
  },
  {
   "cell_type": "code",
   "execution_count": null,
   "metadata": {},
   "outputs": [],
   "source": []
  }
 ],
 "metadata": {
  "kernelspec": {
   "display_name": "python3",
   "language": "python",
   "name": "python3"
  }
 },
 "nbformat": 4,
 "nbformat_minor": 2
}
