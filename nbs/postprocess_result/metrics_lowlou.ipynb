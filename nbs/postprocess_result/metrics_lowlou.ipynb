{
 "cells": [
  {
   "cell_type": "code",
   "execution_count": null,
   "metadata": {},
   "outputs": [],
   "source": [
    "import numpy as np\n",
    "import matplotlib.pyplot as plt\n",
    "\n",
    "\n",
    "from rtmag.process.paper.analytical_field import get_analytic_b_field\n",
    "\n",
    "from rtmag.process.paper.load import MyModel\n",
    "device = \"cpu\"\n",
    "import rtmag.process.paper.metric as m\n",
    "from rtmag.process.paper.potential_field import get_potential_field\n",
    "from rtmag.process.paper.opt import relax\n",
    "from rtmag.process.paper.opth import draw"
   ]
  },
  {
   "cell_type": "code",
   "execution_count": null,
   "metadata": {},
   "outputs": [],
   "source": [
    "l = 0.3\n",
    "psi = 0.25*np.pi\n",
    "B = get_analytic_b_field(m=1, l=l, psi=psi)"
   ]
  },
  {
   "cell_type": "code",
   "execution_count": null,
   "metadata": {},
   "outputs": [],
   "source": [
    "np.save('lowlou_analytic_b_field.npy', B)"
   ]
  },
  {
   "cell_type": "code",
   "execution_count": null,
   "metadata": {},
   "outputs": [],
   "source": [
    "draw(B)"
   ]
  },
  {
   "cell_type": "markdown",
   "metadata": {},
   "source": [
    "# Potential"
   ]
  },
  {
   "cell_type": "code",
   "execution_count": null,
   "metadata": {},
   "outputs": [],
   "source": [
    "B = np.load('lowlou_analytic_b_field.npy')\n",
    "B.shape"
   ]
  },
  {
   "cell_type": "code",
   "execution_count": null,
   "metadata": {},
   "outputs": [],
   "source": [
    "bottom = B[:, :, 0, :]\n",
    "print(bottom.shape)\n",
    "\n",
    "nx, ny, nz, _ = B.shape\n",
    "print(nx, ny, nz)"
   ]
  },
  {
   "cell_type": "code",
   "execution_count": null,
   "metadata": {},
   "outputs": [],
   "source": [
    "bp = get_potential_field(bottom[..., 2], nz, l=0.5)"
   ]
  },
  {
   "cell_type": "code",
   "execution_count": null,
   "metadata": {},
   "outputs": [],
   "source": [
    "np.save(\"lowlou_pot.npy\", bp)"
   ]
  },
  {
   "cell_type": "code",
   "execution_count": null,
   "metadata": {},
   "outputs": [],
   "source": [
    "draw(bp)"
   ]
  },
  {
   "cell_type": "code",
   "execution_count": null,
   "metadata": {},
   "outputs": [],
   "source": [
    "res = m.evaluate(bp, B)\n",
    "print()\n",
    "print(f\"sigmaJ_b: {res['sigmaJ_b']:.4f}\")\n",
    "print(f\"div_b   : {res['div_b']:.4f}\")\n",
    "print(f\"sigmaJ_B: {res['sigmaJ_B']:.4f}\")\n",
    "print(f\"div_B   : {res['div_B']:.4f}\")"
   ]
  },
  {
   "cell_type": "markdown",
   "metadata": {},
   "source": [
    "# Optimization"
   ]
  },
  {
   "cell_type": "code",
   "execution_count": null,
   "metadata": {},
   "outputs": [],
   "source": [
    "B = np.load('lowlou_analytic_b_field.npy')\n",
    "bottom = B[:, :, 0, :]\n",
    "print(bottom.shape)"
   ]
  },
  {
   "cell_type": "code",
   "execution_count": null,
   "metadata": {},
   "outputs": [],
   "source": [
    "bp = np.load(\"lowlou_pot.npy\")\n",
    "bp.shape"
   ]
  },
  {
   "cell_type": "code",
   "execution_count": null,
   "metadata": {},
   "outputs": [],
   "source": [
    "bp[:, :, 0, :] = bottom"
   ]
  },
  {
   "cell_type": "code",
   "execution_count": null,
   "metadata": {},
   "outputs": [],
   "source": [
    "br = relax(bp, 'lowlou_opt')"
   ]
  },
  {
   "cell_type": "code",
   "execution_count": null,
   "metadata": {},
   "outputs": [],
   "source": [
    "np.save(\"lowlou_opt.npy\", br)"
   ]
  },
  {
   "cell_type": "code",
   "execution_count": null,
   "metadata": {},
   "outputs": [],
   "source": [
    "draw(br)"
   ]
  },
  {
   "cell_type": "code",
   "execution_count": null,
   "metadata": {},
   "outputs": [],
   "source": [
    "res = m.evaluate(br, B)\n",
    "print()\n",
    "print(f\"sigmaJ_b: {res['sigmaJ_b']:.4f}\")\n",
    "print(f\"div_b   : {res['div_b']:.4f}\")\n",
    "print(f\"sigmaJ_B: {res['sigmaJ_B']:.4f}\")\n",
    "print(f\"div_B   : {res['div_B']:.4f}\")"
   ]
  },
  {
   "cell_type": "markdown",
   "metadata": {},
   "source": [
    "# AI"
   ]
  },
  {
   "cell_type": "code",
   "execution_count": null,
   "metadata": {},
   "outputs": [],
   "source": [
    "meta_path = \"D:/models/lowlou/best_model.pt\"\n",
    "\n",
    "mm = MyModel(meta_path, device=device)"
   ]
  },
  {
   "cell_type": "code",
   "execution_count": null,
   "metadata": {},
   "outputs": [],
   "source": [
    "B = np.load('lowlou_analytic_b_field.npy')\n",
    "B.shape"
   ]
  },
  {
   "cell_type": "code",
   "execution_count": null,
   "metadata": {},
   "outputs": [],
   "source": [
    "b_bottom = B[:, :, 0, :]\n",
    "b_bottom = b_bottom.transpose((1, 0, 2))[None, None, ...]\n",
    "print(b_bottom.shape)"
   ]
  },
  {
   "cell_type": "code",
   "execution_count": null,
   "metadata": {},
   "outputs": [],
   "source": [
    "b = mm.get_pred_from_numpy(b_bottom)"
   ]
  },
  {
   "cell_type": "code",
   "execution_count": null,
   "metadata": {},
   "outputs": [],
   "source": [
    "np.save(\"lowlou_pino.npy\", b)"
   ]
  },
  {
   "cell_type": "code",
   "execution_count": null,
   "metadata": {},
   "outputs": [],
   "source": [
    "draw(b)"
   ]
  },
  {
   "cell_type": "code",
   "execution_count": null,
   "metadata": {},
   "outputs": [],
   "source": [
    "res = m.evaluate(b, B)\n",
    "print()\n",
    "print(f\"sigmaJ_b: {res['sigmaJ_b']:.4f}\")\n",
    "print(f\"div_b   : {res['div_b']:.4f}\")\n",
    "print(f\"sigmaJ_B: {res['sigmaJ_B']:.4f}\")\n",
    "print(f\"div_B   : {res['div_B']:.4f}\")"
   ]
  },
  {
   "cell_type": "markdown",
   "metadata": {},
   "source": [
    "# AI + Optimization"
   ]
  },
  {
   "cell_type": "code",
   "execution_count": null,
   "metadata": {},
   "outputs": [],
   "source": [
    "B = np.load('lowlou_analytic_b_field.npy')\n",
    "b = np.load(\"lowlou_pino.npy\")"
   ]
  },
  {
   "cell_type": "code",
   "execution_count": null,
   "metadata": {},
   "outputs": [],
   "source": [
    "bottom = B[:, :, 0, :]\n",
    "print(bottom.shape)"
   ]
  },
  {
   "cell_type": "code",
   "execution_count": null,
   "metadata": {},
   "outputs": [],
   "source": [
    "b[:, :, 0, :] = bottom"
   ]
  },
  {
   "cell_type": "code",
   "execution_count": null,
   "metadata": {},
   "outputs": [],
   "source": [
    "br_pino = relax(b, 'lowlou_pino_opt')"
   ]
  },
  {
   "cell_type": "code",
   "execution_count": null,
   "metadata": {},
   "outputs": [],
   "source": [
    "np.save(\"lowlou_pino_opt.npy\", br_pino)"
   ]
  },
  {
   "cell_type": "code",
   "execution_count": null,
   "metadata": {},
   "outputs": [],
   "source": [
    "draw(br_pino)"
   ]
  },
  {
   "cell_type": "code",
   "execution_count": null,
   "metadata": {},
   "outputs": [],
   "source": [
    "res = m.evaluate(br_pino, B)\n",
    "print()\n",
    "print(f\"sigmaJ_b: {res['sigmaJ_b']:.4f}\")\n",
    "print(f\"div_b   : {res['div_b']:.4f}\")\n",
    "print(f\"sigmaJ_B: {res['sigmaJ_B']:.4f}\")\n",
    "print(f\"div_B   : {res['div_B']:.4f}\")"
   ]
  },
  {
   "cell_type": "code",
   "execution_count": null,
   "metadata": {},
   "outputs": [],
   "source": []
  }
 ],
 "metadata": {
  "kernelspec": {
   "display_name": "python3",
   "language": "python",
   "name": "python3"
  }
 },
 "nbformat": 4,
 "nbformat_minor": 2
}
