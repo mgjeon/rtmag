{
 "cells": [
  {
   "cell_type": "code",
   "execution_count": null,
   "metadata": {},
   "outputs": [],
   "source": [
    "import numpy as np\n",
    "from rtmag.process.paper.load import MyModel\n",
    "import rtmag.process.paper.metric as m\n",
    "from rtmag.process.paper.analytical_field import get_analytic_b_field\n",
    "import matplotlib.pyplot as plt\n",
    "\n",
    "device = \"cpu\""
   ]
  },
  {
   "cell_type": "code",
   "execution_count": null,
   "metadata": {},
   "outputs": [],
   "source": [
    "l = 0.3\n",
    "psi = 0.25*np.pi\n",
    "B = get_analytic_b_field(m=1, l=l, psi=psi)\n",
    "b_bottom = B[:, :, 0, :]\n",
    "b_bottom = b_bottom.transpose((1, 0, 2))[None, None, ...]"
   ]
  },
  {
   "cell_type": "code",
   "execution_count": null,
   "metadata": {},
   "outputs": [],
   "source": [
    "meta_path = \"D:/models/lowlou/best_model.pt\"\n",
    "mm = MyModel(meta_path, device=device)\n",
    "b = mm.get_pred_from_numpy(b_bottom)\n",
    "m.evaluate(b, B)"
   ]
  },
  {
   "cell_type": "code",
   "execution_count": null,
   "metadata": {},
   "outputs": [],
   "source": [
    "from magplot.base import create_mesh, mag_plotter\n",
    "import pyvista as pv\n",
    "pv.set_jupyter_backend('static')"
   ]
  },
  {
   "cell_type": "code",
   "execution_count": null,
   "metadata": {},
   "outputs": [],
   "source": [
    "vmin = -200\n",
    "vmax = 200\n",
    "i_siz=b.shape[0] / 2\n",
    "j_siz=b.shape[1] / 2\n",
    "i_res=8\n",
    "j_res=8\n",
    "window_size=(1000, 900)\n",
    "zoom=1.0\n",
    "max_time=10000\n",
    "camera_position = 'xy'\n",
    "b_title = ''\n",
    "title_fontsize = 10\n",
    "\n",
    "bx = b[..., 0]\n",
    "by = b[..., 1]\n",
    "bz = b[..., 2]\n",
    "mesh = create_mesh(bx, by, bz)\n",
    "b_plot = mag_plotter(mesh)\n",
    "b_tube, b_bottoms, b_dargs = b_plot.create_mesh(i_siz=i_siz, j_siz=j_siz, i_resolution=i_res, j_resolution=j_res, vmin=vmin, vmax=vmax, max_time=max_time)\n",
    "b_tube = b_plot.strl.tube(radius=0.2)\n",
    "\n",
    "p = pv.Plotter(off_screen=False, window_size=window_size)\n",
    "p.add_mesh(b_plot.grid.outline(), color='k')\n",
    "p.add_mesh(b_bottoms, cmap='gray', **b_dargs)\n",
    "p.add_mesh(b_tube, lighting=False, color='blue')\n",
    "p.camera_position = 'yz'\n",
    "p.camera.elevation = 20\n",
    "p.camera.azimuth = -60\n",
    "p.add_title(b_title, font_size=title_fontsize)\n",
    "p.camera.zoom(zoom)\n",
    "p.add_title(\"AI-generated (PINO)\", font_size=25)\n",
    "p.screenshot('lowlou_pred.png', transparent_background=True)\n",
    "p.show()"
   ]
  },
  {
   "cell_type": "code",
   "execution_count": null,
   "metadata": {},
   "outputs": [],
   "source": [
    "vmin = -200\n",
    "vmax = 200\n",
    "i_siz=B.shape[0] / 2\n",
    "j_siz=B.shape[1] / 2\n",
    "i_res=8\n",
    "j_res=8\n",
    "window_size=(1000, 900)\n",
    "zoom=1.0\n",
    "max_time=10000\n",
    "b_title = ''\n",
    "title_fontsize = 10\n",
    "\n",
    "bx = B[..., 0]\n",
    "by = B[..., 1]\n",
    "bz = B[..., 2]\n",
    "mesh = create_mesh(bx, by, bz)\n",
    "b_plot = mag_plotter(mesh)\n",
    "b_tube, b_bottoms, b_dargs = b_plot.create_mesh(i_siz=i_siz, j_siz=j_siz, i_resolution=i_res, j_resolution=j_res, vmin=vmin, vmax=vmax, max_time=max_time)\n",
    "b_tube = b_plot.strl.tube(radius=0.2)\n",
    "\n",
    "\n",
    "p = pv.Plotter(off_screen=False, window_size=window_size)\n",
    "p.add_mesh(b_plot.grid.outline(), color='k')\n",
    "p.add_mesh(b_bottoms, cmap='gray', **b_dargs)\n",
    "p.add_mesh(b_tube, lighting=False, color='blue')\n",
    "p.camera_position = 'yz'\n",
    "p.camera.elevation = 20\n",
    "p.camera.azimuth = -60\n",
    "p.add_title(b_title, font_size=title_fontsize)\n",
    "p.camera.zoom(zoom)\n",
    "p.add_title(\"Reference\", font_size=25)\n",
    "p.screenshot('lowlou_true.png', transparent_background=True)\n",
    "p.show()"
   ]
  },
  {
   "cell_type": "code",
   "execution_count": null,
   "metadata": {},
   "outputs": [],
   "source": [
    "n = 2"
   ]
  },
  {
   "cell_type": "code",
   "execution_count": null,
   "metadata": {},
   "outputs": [],
   "source": [
    "meta_path = \"D:/models/_paper/low_lou/model_4.pt\"\n",
    "mm = MyModel(meta_path, device=device)\n",
    "b = mm.get_pred_from_numpy(b_bottom)\n",
    "plt.plot(((b-B)**2).sum(-1).mean(axis=(0, 1)))\n",
    "m.evaluate(b, B)\n",
    "# m.evaluate(b[n:-n, n:-n, :-(2*n), :], B[n:-n, n:-n, :-(2*n), :])"
   ]
  },
  {
   "cell_type": "code",
   "execution_count": null,
   "metadata": {},
   "outputs": [],
   "source": [
    "meta_path = \"D:/models/_paper/low_lou/best_model.pt\"\n",
    "mm = MyModel(meta_path, device=device)\n",
    "b = mm.get_pred_from_numpy(b_bottom)\n",
    "plt.plot(((b-B)**2).sum(-1).mean(axis=(0, 1)))\n",
    "m.evaluate(b, B)\n",
    "# m.evaluate(b[n:-n, n:-n, :-(2*n), :], B[n:-n, n:-n, :-(2*n), :])"
   ]
  },
  {
   "cell_type": "code",
   "execution_count": null,
   "metadata": {},
   "outputs": [],
   "source": [
    "meta_path = \"D:/models/newtest/low_lou2/best_model.pt\"\n",
    "mm = MyModel(meta_path, device=device)\n",
    "b = mm.get_pred_from_numpy(b_bottom)\n",
    "plt.plot(((b-B)**2).sum(-1).mean(axis=(0, 1)))\n",
    "m.evaluate(b, B)\n",
    "# m.evaluate(b[n:-n, n:-n, :-(2*n), :], B[n:-n, n:-n, :-(2*n), :])"
   ]
  },
  {
   "cell_type": "code",
   "execution_count": null,
   "metadata": {},
   "outputs": [],
   "source": [
    "meta_path = \"D:/models/test_aaa/lowlow_meta_test_3/best_model.pt\"\n",
    "mm = MyModel(meta_path, device=device)\n",
    "b = mm.get_pred_from_numpy(b_bottom)\n",
    "plt.plot(((b-B)**2).sum(-1).mean(axis=(0, 1)))\n",
    "m.evaluate(b, B)\n",
    "# m.evaluate(b[n:-n, n:-n, :-(2*n), :], B[n:-n, n:-n, :-(2*n), :])"
   ]
  },
  {
   "cell_type": "code",
   "execution_count": null,
   "metadata": {},
   "outputs": [],
   "source": [
    "meta_path = \"D:/models/test_vecvec/low_lou7/best_model.pt\"\n",
    "mm = MyModel(meta_path, device=device)\n",
    "b = mm.get_pred_from_numpy_no_div(b_bottom)\n",
    "plt.plot(((b-B)**2).sum(-1).mean(axis=(0, 1)))\n",
    "m.evaluate(b, B)\n",
    "# m.evaluate(b[n:-n, n:-n, :-(2*n), :], B[n:-n, n:-n, :-(2*n), :])"
   ]
  },
  {
   "cell_type": "code",
   "execution_count": null,
   "metadata": {},
   "outputs": [],
   "source": [
    "meta_path = \"D:/models/test_vecvec/low_lou14/best_model.pt\"\n",
    "mm = MyModel(meta_path, device=device)\n",
    "b = mm.get_pred_from_numpy_no_div(b_bottom)\n",
    "plt.plot(((b-B)**2).sum(-1).mean(axis=(0, 1)))\n",
    "m.evaluate(b, B)\n",
    "# m.evaluate(b[n:-n, n:-n, :-(2*n), :], B[n:-n, n:-n, :-(2*n), :])"
   ]
  },
  {
   "cell_type": "code",
   "execution_count": null,
   "metadata": {},
   "outputs": [],
   "source": [
    "meta_path = \"D:/models/test_vecvec/low_lou17/best_model.pt\"\n",
    "mm = MyModel(meta_path, device=device)\n",
    "b = mm.get_pred_from_numpy_no_div(b_bottom)\n",
    "plt.plot(((b-B)**2).sum(-1).mean(axis=(0, 1)))\n",
    "m.evaluate(b, B)\n",
    "# m.evaluate(b[n:-n, n:-n, :-(2*n), :], B[n:-n, n:-n, :-(2*n), :])"
   ]
  },
  {
   "cell_type": "code",
   "execution_count": null,
   "metadata": {},
   "outputs": [],
   "source": [
    "meta_path = \"D:/models/test_vecvec/low_lou19/best_model.pt\"\n",
    "mm = MyModel(meta_path, device=device)\n",
    "b = mm.get_pred_from_numpy_no_div(b_bottom)\n",
    "plt.plot(((b-B)**2).sum(-1).mean(axis=(0, 1)))\n",
    "m.evaluate(b, B)\n",
    "# m.evaluate(b[n:-n, n:-n, :-(2*n), :], B[n:-n, n:-n, :-(2*n), :])"
   ]
  },
  {
   "cell_type": "code",
   "execution_count": null,
   "metadata": {},
   "outputs": [],
   "source": [
    "meta_path = \"D:/models/test_vecvec/low_lou22/model_0.pt\"\n",
    "mm = MyModel(meta_path, device=device)\n",
    "b = mm.get_pred_from_numpy_no_div(b_bottom)\n",
    "l = ((b-B)**2).sum(-1).mean(axis=(0, 1))\n",
    "plt.plot(l)\n",
    "m.evaluate(b, B)"
   ]
  },
  {
   "cell_type": "code",
   "execution_count": null,
   "metadata": {},
   "outputs": [],
   "source": [
    "meta_path = \"D:/models/test_vecvec/low_lou22/best_model.pt\"\n",
    "mm = MyModel(meta_path, device=device)\n",
    "b = mm.get_pred_from_numpy_no_div(b_bottom)\n",
    "plt.plot(((b-B)**2).sum(-1).mean(axis=(0, 1)))\n",
    "# plt.plot(l)\n",
    "m.evaluate(b, B)\n",
    "# m.evaluate(b[n:-n, n:-n, :-(2*n), :], B[n:-n, n:-n, :-(2*n), :])"
   ]
  },
  {
   "cell_type": "code",
   "execution_count": null,
   "metadata": {},
   "outputs": [],
   "source": [
    "n = 16\n",
    "m.evaluate(b[n:-n, n:-n, :-(2*n), :], B[n:-n, n:-n, :-(2*n), :])"
   ]
  },
  {
   "cell_type": "code",
   "execution_count": null,
   "metadata": {},
   "outputs": [],
   "source": [
    "vmin = -200\n",
    "vmax = 200\n",
    "i_siz=b.shape[0] / 2\n",
    "j_siz=b.shape[1] / 2\n",
    "i_res=8\n",
    "j_res=8\n",
    "window_size=(1000, 900)\n",
    "zoom=1.0\n",
    "max_time=10000\n",
    "camera_position = 'xy'\n",
    "b_title = ''\n",
    "title_fontsize = 10\n",
    "\n",
    "bx = b[..., 0]\n",
    "by = b[..., 1]\n",
    "bz = b[..., 2]\n",
    "mesh = create_mesh(bx, by, bz)\n",
    "b_plot = mag_plotter(mesh)\n",
    "b_tube, b_bottoms, b_dargs = b_plot.create_mesh(i_siz=i_siz, j_siz=j_siz, i_resolution=i_res, j_resolution=j_res, vmin=vmin, vmax=vmax, max_time=max_time)\n",
    "b_tube = b_plot.strl.tube(radius=0.2)\n",
    "\n",
    "p = pv.Plotter(off_screen=False, window_size=window_size)\n",
    "p.add_mesh(b_plot.grid.outline(), color='k')\n",
    "p.add_mesh(b_bottoms, cmap='gray', **b_dargs)\n",
    "p.add_mesh(b_tube, lighting=False, color='blue')\n",
    "p.camera_position = 'yz'\n",
    "p.camera.elevation = 20\n",
    "p.camera.azimuth = -60\n",
    "p.add_title(b_title, font_size=title_fontsize)\n",
    "p.camera.zoom(zoom)\n",
    "p.add_title(\"AI-generated (PINO)\", font_size=25)\n",
    "p.show()"
   ]
  },
  {
   "cell_type": "code",
   "execution_count": null,
   "metadata": {},
   "outputs": [],
   "source": [
    "b = b[n:-n, n:-n, :-(2*n), :]\n",
    "vmin = -200\n",
    "vmax = 200\n",
    "i_siz=b.shape[0] / 2\n",
    "j_siz=b.shape[1] / 2\n",
    "i_res=8\n",
    "j_res=8\n",
    "window_size=(1000, 900)\n",
    "zoom=1.0\n",
    "max_time=10000\n",
    "camera_position = 'xy'\n",
    "b_title = ''\n",
    "title_fontsize = 10\n",
    "\n",
    "bx = b[..., 0]\n",
    "by = b[..., 1]\n",
    "bz = b[..., 2]\n",
    "mesh = create_mesh(bx, by, bz)\n",
    "b_plot = mag_plotter(mesh)\n",
    "b_tube, b_bottoms, b_dargs = b_plot.create_mesh(i_siz=i_siz, j_siz=j_siz, i_resolution=i_res, j_resolution=j_res, vmin=vmin, vmax=vmax, max_time=max_time)\n",
    "b_tube = b_plot.strl.tube(radius=0.2)\n",
    "\n",
    "p = pv.Plotter(off_screen=False, window_size=window_size)\n",
    "p.add_mesh(b_plot.grid.outline(), color='k')\n",
    "p.add_mesh(b_bottoms, cmap='gray', **b_dargs)\n",
    "p.add_mesh(b_tube, lighting=False, color='blue')\n",
    "p.camera_position = 'yz'\n",
    "p.camera.elevation = 20\n",
    "p.camera.azimuth = -60\n",
    "p.add_title(b_title, font_size=title_fontsize)\n",
    "p.camera.zoom(zoom)\n",
    "p.add_title(\"AI-generated (PINO)\", font_size=25)\n",
    "p.show()"
   ]
  },
  {
   "cell_type": "code",
   "execution_count": null,
   "metadata": {},
   "outputs": [],
   "source": [
    "b = B[n:-n, n:-n, :-(2*n), :]\n",
    "vmin = -200\n",
    "vmax = 200\n",
    "i_siz=b.shape[0] / 2\n",
    "j_siz=b.shape[1] / 2\n",
    "i_res=8\n",
    "j_res=8\n",
    "window_size=(1000, 900)\n",
    "zoom=1.0\n",
    "max_time=10000\n",
    "camera_position = 'xy'\n",
    "b_title = ''\n",
    "title_fontsize = 10\n",
    "\n",
    "bx = b[..., 0]\n",
    "by = b[..., 1]\n",
    "bz = b[..., 2]\n",
    "mesh = create_mesh(bx, by, bz)\n",
    "b_plot = mag_plotter(mesh)\n",
    "b_tube, b_bottoms, b_dargs = b_plot.create_mesh(i_siz=i_siz, j_siz=j_siz, i_resolution=i_res, j_resolution=j_res, vmin=vmin, vmax=vmax, max_time=max_time)\n",
    "b_tube = b_plot.strl.tube(radius=0.2)\n",
    "\n",
    "p = pv.Plotter(off_screen=False, window_size=window_size)\n",
    "p.add_mesh(b_plot.grid.outline(), color='k')\n",
    "p.add_mesh(b_bottoms, cmap='gray', **b_dargs)\n",
    "p.add_mesh(b_tube, lighting=False, color='blue')\n",
    "p.camera_position = 'yz'\n",
    "p.camera.elevation = 20\n",
    "p.camera.azimuth = -60\n",
    "p.add_title(b_title, font_size=title_fontsize)\n",
    "p.camera.zoom(zoom)\n",
    "p.add_title(\"True\", font_size=25)\n",
    "p.show()"
   ]
  },
  {
   "cell_type": "code",
   "execution_count": null,
   "metadata": {},
   "outputs": [],
   "source": []
  }
 ],
 "metadata": {
  "kernelspec": {
   "display_name": "python3",
   "language": "python",
   "name": "python3"
  }
 },
 "nbformat": 4,
 "nbformat_minor": 2
}
