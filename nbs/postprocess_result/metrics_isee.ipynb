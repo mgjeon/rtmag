{
 "cells": [
  {
   "cell_type": "code",
   "execution_count": null,
   "metadata": {},
   "outputs": [],
   "source": [
    "import pandas as pd"
   ]
  },
  {
   "cell_type": "code",
   "execution_count": null,
   "metadata": {},
   "outputs": [],
   "source": [
    "def table(df):\n",
    "    print(len(df))\n",
    "    df['identifier'] = df['file'].str.extract(r'label_(\\d+)_')\n",
    "    numerical_cols = df.select_dtypes(include=['number'])\n",
    "    df = df[['identifier']].join(numerical_cols).groupby('identifier').mean().reset_index()\n",
    "    c_vec_mean = df['C_vec'].mean()\n",
    "    c_cs_mean = df['C_cs'].mean()\n",
    "    e_n_mean = df[\"E_n'\"].mean()\n",
    "    e_m_mean = df[\"E_m'\"].mean()\n",
    "    eps_mean = df[\"eps\"].mean()\n",
    "    sigmaJ_b_mean = df[\"sigmaJ_b\"].mean()\n",
    "    div_b_mean = df[\"div_b\"].mean()\n",
    "    sigmaJ_B_mean = df[\"sigmaJ_B\"].mean()\n",
    "    div_B_mean = df[\"div_B\"].mean()\n",
    "\n",
    "    print(f\"avg C_vec     : {c_vec_mean:.2f}\")\n",
    "    print(f\"avg C_cs      : {c_cs_mean:.2f}\")\n",
    "    print(f\"avg E_n_prime : {e_n_mean:.2f}\")\n",
    "    print(f\"avg E_m_prime : {e_m_mean:.2f}\")\n",
    "    print(f\"avg eps       : {eps_mean:.2f}\")\n",
    "\n",
    "    print(f\"avg sigmaJ_b  : {sigmaJ_b_mean:.4f}\")\n",
    "    print(f\"avg div_b     : {div_b_mean:.4f}\")\n",
    "\n",
    "    print(f\"avg sigmaJ_B  : {sigmaJ_B_mean:.4f}\")\n",
    "    print(f\"avg div_B     : {div_B_mean:.4f}\")\n",
    "    print()\n",
    "    return df"
   ]
  },
  {
   "cell_type": "markdown",
   "metadata": {},
   "source": [
    "# Potential"
   ]
  },
  {
   "cell_type": "code",
   "execution_count": null,
   "metadata": {},
   "outputs": [],
   "source": [
    "df = pd.read_csv('D:/data/metric/all_csv/metrics_val_pot.csv')\n",
    "table(df);"
   ]
  },
  {
   "cell_type": "code",
   "execution_count": null,
   "metadata": {},
   "outputs": [],
   "source": [
    "df = pd.read_csv('D:/data/metric/all_csv/metrics_test_pot.csv')\n",
    "table(df);"
   ]
  },
  {
   "cell_type": "markdown",
   "metadata": {},
   "source": [
    "# Potential + Optimization"
   ]
  },
  {
   "cell_type": "code",
   "execution_count": null,
   "metadata": {},
   "outputs": [],
   "source": [
    "df = pd.read_csv('D:/data/metric/all_csv/metrics_val_pot_opt.csv')\n",
    "table(df);"
   ]
  },
  {
   "cell_type": "code",
   "execution_count": null,
   "metadata": {},
   "outputs": [],
   "source": [
    "df = pd.read_csv('D:/data/metric/all_csv/metrics_test_pot_opt.csv')\n",
    "table(df);"
   ]
  },
  {
   "cell_type": "markdown",
   "metadata": {},
   "source": [
    "# AI-generated"
   ]
  },
  {
   "cell_type": "code",
   "execution_count": null,
   "metadata": {},
   "outputs": [],
   "source": [
    "df = pd.read_csv('D:/data/metric/all_csv/metrics_val_pino.csv')\n",
    "table(df);"
   ]
  },
  {
   "cell_type": "code",
   "execution_count": null,
   "metadata": {},
   "outputs": [],
   "source": [
    "df = pd.read_csv('D:/data/metric/all_csv/metrics_test_pino.csv')\n",
    "table(df);"
   ]
  },
  {
   "cell_type": "markdown",
   "metadata": {},
   "source": [
    "# AI + Optimization"
   ]
  },
  {
   "cell_type": "code",
   "execution_count": null,
   "metadata": {},
   "outputs": [],
   "source": [
    "df = pd.read_csv('D:/data/metric/all_csv/metrics_val_pino_opt.csv')\n",
    "table(df);"
   ]
  },
  {
   "cell_type": "code",
   "execution_count": null,
   "metadata": {},
   "outputs": [],
   "source": [
    "df = pd.read_csv('D:/data/metric/all_csv/metrics_test_pino_opt.csv')\n",
    "table(df);"
   ]
  },
  {
   "cell_type": "code",
   "execution_count": null,
   "metadata": {},
   "outputs": [],
   "source": []
  }
 ],
 "metadata": {
  "kernelspec": {
   "display_name": "python3",
   "language": "python",
   "name": "python3"
  }
 },
 "nbformat": 4,
 "nbformat_minor": 2
}
