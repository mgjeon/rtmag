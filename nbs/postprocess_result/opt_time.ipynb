{
 "cells": [
  {
   "cell_type": "code",
   "execution_count": null,
   "metadata": {},
   "outputs": [],
   "source": [
    "from pathlib import Path\n",
    "from tqdm import tqdm\n",
    "import numpy as np\n",
    "import matplotlib.pyplot as plt"
   ]
  },
  {
   "cell_type": "code",
   "execution_count": null,
   "metadata": {},
   "outputs": [],
   "source": [
    "opt = Path(\"D:/data/metric/all/val/pino_opt\")\n",
    "opt_files = sorted(opt.glob(\"*.txt\"))\n",
    "\n",
    "times = []\n",
    "\n",
    "for file in tqdm(opt_files):\n",
    "    with open(file, \"r\") as f:\n",
    "        lines = f.readlines()\n",
    "        time_interval = float(lines[0].strip().split(\" \")[1])\n",
    "        times.append(time_interval)\n",
    "\n",
    "times = np.array(times)\n",
    "print(\"Mean:\", np.mean(times))\n",
    "plt.hist(times, bins=100)\n",
    "plt.show()"
   ]
  },
  {
   "cell_type": "code",
   "execution_count": null,
   "metadata": {},
   "outputs": [],
   "source": [
    "opt = Path(\"D:/data/metric/all/val/potential_opt\")\n",
    "opt_files = sorted(opt.glob(\"*.txt\"))\n",
    "\n",
    "times = []\n",
    "\n",
    "for file in tqdm(opt_files):\n",
    "    with open(file, \"r\") as f:\n",
    "        lines = f.readlines()\n",
    "        time_interval = float(lines[0].strip().split(\" \")[1])\n",
    "        times.append(time_interval)\n",
    "\n",
    "times = np.array(times)\n",
    "print(\"Mean:\", np.mean(times))\n",
    "plt.hist(times, bins=100)\n",
    "plt.show()"
   ]
  },
  {
   "cell_type": "code",
   "execution_count": null,
   "metadata": {},
   "outputs": [],
   "source": [
    "opt = Path(\"D:/data/metric/all/test/pino_opt\")\n",
    "opt_files = sorted(opt.glob(\"*.txt\"))\n",
    "\n",
    "times = []\n",
    "\n",
    "for file in tqdm(opt_files):\n",
    "    with open(file, \"r\") as f:\n",
    "        lines = f.readlines()\n",
    "        time_interval = float(lines[0].strip().split(\" \")[1])\n",
    "        times.append(time_interval)\n",
    "\n",
    "times = np.array(times)\n",
    "print(\"Mean:\", np.mean(times))\n",
    "plt.hist(times, bins=100)\n",
    "plt.show()"
   ]
  },
  {
   "cell_type": "code",
   "execution_count": null,
   "metadata": {},
   "outputs": [],
   "source": [
    "opt = Path(\"D:/data/metric/all/test/potential_opt\")\n",
    "opt_files = sorted(opt.glob(\"*.txt\"))\n",
    "\n",
    "times = []\n",
    "\n",
    "for file in tqdm(opt_files):\n",
    "    with open(file, \"r\") as f:\n",
    "        lines = f.readlines()\n",
    "        time_interval = float(lines[0].strip().split(\" \")[1])\n",
    "        times.append(time_interval)\n",
    "\n",
    "times = np.array(times)\n",
    "print(\"Mean:\", np.mean(times))\n",
    "plt.hist(times, bins=100)\n",
    "plt.show()"
   ]
  },
  {
   "cell_type": "code",
   "execution_count": null,
   "metadata": {},
   "outputs": [],
   "source": []
  }
 ],
 "metadata": {
  "kernelspec": {
   "display_name": "python3",
   "language": "python",
   "name": "python3"
  }
 },
 "nbformat": 4,
 "nbformat_minor": 2
}
